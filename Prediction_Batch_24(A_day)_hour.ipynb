{
  "nbformat": 4,
  "nbformat_minor": 0,
  "metadata": {
    "colab": {
      "provenance": []
    },
    "kernelspec": {
      "name": "python3",
      "display_name": "Python 3"
    },
    "language_info": {
      "name": "python"
    }
  },
  "cells": [
    {
      "cell_type": "code",
      "execution_count": null,
      "metadata": {
        "colab": {
          "base_uri": "https://localhost:8080/"
        },
        "id": "nzBq0Mfnndk0",
        "outputId": "75c13a22-872c-4dce-ef4d-f956bc91a991"
      },
      "outputs": [
        {
          "output_type": "stream",
          "name": "stdout",
          "text": [
            "2.15.0\n",
            "[PhysicalDevice(name='/physical_device:CPU:0', device_type='CPU')]\n"
          ]
        }
      ],
      "source": [
        "# import TensorFlow\n",
        "import tensorflow as tf\n",
        "\n",
        "#Check the version of TensorFlow you are using\n",
        "print(tf.__version__)\n",
        "print(tf.config.list_physical_devices('CPU'))"
      ]
    },
    {
      "cell_type": "code",
      "source": [
        "import numpy as np\n",
        "import pandas as pd"
      ],
      "metadata": {
        "id": "T3TMV8m9n3-6"
      },
      "execution_count": null,
      "outputs": []
    },
    {
      "cell_type": "code",
      "source": [
        "series = pd.read_excel('/content/sample_data/wind_mill.xlsx',index_col=\"DateTime\")\n",
        "series.head()"
      ],
      "metadata": {
        "colab": {
          "base_uri": "https://localhost:8080/",
          "height": 238
        },
        "id": "ok1CffUFn4wi",
        "outputId": "2ae00226-4244-4182-f20a-3e918969587a"
      },
      "execution_count": null,
      "outputs": [
        {
          "output_type": "execute_result",
          "data": {
            "text/plain": [
              "                     Air_temperature (cel)  Pressure (atm)  Wind_speed (m/s)  \\\n",
              "DateTime                                                                       \n",
              "2007-01-01 00:00:00                 10.926        0.979103             9.014   \n",
              "2007-01-01 01:00:00                  9.919        0.979566             9.428   \n",
              "2007-01-01 02:00:00                  8.567        0.979937             8.700   \n",
              "2007-01-01 03:00:00                  7.877        0.980053             8.481   \n",
              "2007-01-01 04:00:00                  7.259        0.979867             8.383   \n",
              "\n",
              "                     Wind_direction (deg)  Power_generated_by_system (kW)  \n",
              "DateTime                                                                   \n",
              "2007-01-01 00:00:00                   229                         33688.1  \n",
              "2007-01-01 01:00:00                   232                         37261.9  \n",
              "2007-01-01 02:00:00                   236                         30502.9  \n",
              "2007-01-01 03:00:00                   247                         28419.2  \n",
              "2007-01-01 04:00:00                   256                         27370.3  "
            ],
            "text/html": [
              "\n",
              "  <div id=\"df-eb00ccc6-9c97-46fb-a1e7-fda2b995166d\" class=\"colab-df-container\">\n",
              "    <div>\n",
              "<style scoped>\n",
              "    .dataframe tbody tr th:only-of-type {\n",
              "        vertical-align: middle;\n",
              "    }\n",
              "\n",
              "    .dataframe tbody tr th {\n",
              "        vertical-align: top;\n",
              "    }\n",
              "\n",
              "    .dataframe thead th {\n",
              "        text-align: right;\n",
              "    }\n",
              "</style>\n",
              "<table border=\"1\" class=\"dataframe\">\n",
              "  <thead>\n",
              "    <tr style=\"text-align: right;\">\n",
              "      <th></th>\n",
              "      <th>Air_temperature (cel)</th>\n",
              "      <th>Pressure (atm)</th>\n",
              "      <th>Wind_speed (m/s)</th>\n",
              "      <th>Wind_direction (deg)</th>\n",
              "      <th>Power_generated_by_system (kW)</th>\n",
              "    </tr>\n",
              "    <tr>\n",
              "      <th>DateTime</th>\n",
              "      <th></th>\n",
              "      <th></th>\n",
              "      <th></th>\n",
              "      <th></th>\n",
              "      <th></th>\n",
              "    </tr>\n",
              "  </thead>\n",
              "  <tbody>\n",
              "    <tr>\n",
              "      <th>2007-01-01 00:00:00</th>\n",
              "      <td>10.926</td>\n",
              "      <td>0.979103</td>\n",
              "      <td>9.014</td>\n",
              "      <td>229</td>\n",
              "      <td>33688.1</td>\n",
              "    </tr>\n",
              "    <tr>\n",
              "      <th>2007-01-01 01:00:00</th>\n",
              "      <td>9.919</td>\n",
              "      <td>0.979566</td>\n",
              "      <td>9.428</td>\n",
              "      <td>232</td>\n",
              "      <td>37261.9</td>\n",
              "    </tr>\n",
              "    <tr>\n",
              "      <th>2007-01-01 02:00:00</th>\n",
              "      <td>8.567</td>\n",
              "      <td>0.979937</td>\n",
              "      <td>8.700</td>\n",
              "      <td>236</td>\n",
              "      <td>30502.9</td>\n",
              "    </tr>\n",
              "    <tr>\n",
              "      <th>2007-01-01 03:00:00</th>\n",
              "      <td>7.877</td>\n",
              "      <td>0.980053</td>\n",
              "      <td>8.481</td>\n",
              "      <td>247</td>\n",
              "      <td>28419.2</td>\n",
              "    </tr>\n",
              "    <tr>\n",
              "      <th>2007-01-01 04:00:00</th>\n",
              "      <td>7.259</td>\n",
              "      <td>0.979867</td>\n",
              "      <td>8.383</td>\n",
              "      <td>256</td>\n",
              "      <td>27370.3</td>\n",
              "    </tr>\n",
              "  </tbody>\n",
              "</table>\n",
              "</div>\n",
              "    <div class=\"colab-df-buttons\">\n",
              "\n",
              "  <div class=\"colab-df-container\">\n",
              "    <button class=\"colab-df-convert\" onclick=\"convertToInteractive('df-eb00ccc6-9c97-46fb-a1e7-fda2b995166d')\"\n",
              "            title=\"Convert this dataframe to an interactive table.\"\n",
              "            style=\"display:none;\">\n",
              "\n",
              "  <svg xmlns=\"http://www.w3.org/2000/svg\" height=\"24px\" viewBox=\"0 -960 960 960\">\n",
              "    <path d=\"M120-120v-720h720v720H120Zm60-500h600v-160H180v160Zm220 220h160v-160H400v160Zm0 220h160v-160H400v160ZM180-400h160v-160H180v160Zm440 0h160v-160H620v160ZM180-180h160v-160H180v160Zm440 0h160v-160H620v160Z\"/>\n",
              "  </svg>\n",
              "    </button>\n",
              "\n",
              "  <style>\n",
              "    .colab-df-container {\n",
              "      display:flex;\n",
              "      gap: 12px;\n",
              "    }\n",
              "\n",
              "    .colab-df-convert {\n",
              "      background-color: #E8F0FE;\n",
              "      border: none;\n",
              "      border-radius: 50%;\n",
              "      cursor: pointer;\n",
              "      display: none;\n",
              "      fill: #1967D2;\n",
              "      height: 32px;\n",
              "      padding: 0 0 0 0;\n",
              "      width: 32px;\n",
              "    }\n",
              "\n",
              "    .colab-df-convert:hover {\n",
              "      background-color: #E2EBFA;\n",
              "      box-shadow: 0px 1px 2px rgba(60, 64, 67, 0.3), 0px 1px 3px 1px rgba(60, 64, 67, 0.15);\n",
              "      fill: #174EA6;\n",
              "    }\n",
              "\n",
              "    .colab-df-buttons div {\n",
              "      margin-bottom: 4px;\n",
              "    }\n",
              "\n",
              "    [theme=dark] .colab-df-convert {\n",
              "      background-color: #3B4455;\n",
              "      fill: #D2E3FC;\n",
              "    }\n",
              "\n",
              "    [theme=dark] .colab-df-convert:hover {\n",
              "      background-color: #434B5C;\n",
              "      box-shadow: 0px 1px 3px 1px rgba(0, 0, 0, 0.15);\n",
              "      filter: drop-shadow(0px 1px 2px rgba(0, 0, 0, 0.3));\n",
              "      fill: #FFFFFF;\n",
              "    }\n",
              "  </style>\n",
              "\n",
              "    <script>\n",
              "      const buttonEl =\n",
              "        document.querySelector('#df-eb00ccc6-9c97-46fb-a1e7-fda2b995166d button.colab-df-convert');\n",
              "      buttonEl.style.display =\n",
              "        google.colab.kernel.accessAllowed ? 'block' : 'none';\n",
              "\n",
              "      async function convertToInteractive(key) {\n",
              "        const element = document.querySelector('#df-eb00ccc6-9c97-46fb-a1e7-fda2b995166d');\n",
              "        const dataTable =\n",
              "          await google.colab.kernel.invokeFunction('convertToInteractive',\n",
              "                                                    [key], {});\n",
              "        if (!dataTable) return;\n",
              "\n",
              "        const docLinkHtml = 'Like what you see? Visit the ' +\n",
              "          '<a target=\"_blank\" href=https://colab.research.google.com/notebooks/data_table.ipynb>data table notebook</a>'\n",
              "          + ' to learn more about interactive tables.';\n",
              "        element.innerHTML = '';\n",
              "        dataTable['output_type'] = 'display_data';\n",
              "        await google.colab.output.renderOutput(dataTable, element);\n",
              "        const docLink = document.createElement('div');\n",
              "        docLink.innerHTML = docLinkHtml;\n",
              "        element.appendChild(docLink);\n",
              "      }\n",
              "    </script>\n",
              "  </div>\n",
              "\n",
              "\n",
              "<div id=\"df-c4c76c14-e045-487f-816b-db2240ef1b73\">\n",
              "  <button class=\"colab-df-quickchart\" onclick=\"quickchart('df-c4c76c14-e045-487f-816b-db2240ef1b73')\"\n",
              "            title=\"Suggest charts\"\n",
              "            style=\"display:none;\">\n",
              "\n",
              "<svg xmlns=\"http://www.w3.org/2000/svg\" height=\"24px\"viewBox=\"0 0 24 24\"\n",
              "     width=\"24px\">\n",
              "    <g>\n",
              "        <path d=\"M19 3H5c-1.1 0-2 .9-2 2v14c0 1.1.9 2 2 2h14c1.1 0 2-.9 2-2V5c0-1.1-.9-2-2-2zM9 17H7v-7h2v7zm4 0h-2V7h2v10zm4 0h-2v-4h2v4z\"/>\n",
              "    </g>\n",
              "</svg>\n",
              "  </button>\n",
              "\n",
              "<style>\n",
              "  .colab-df-quickchart {\n",
              "      --bg-color: #E8F0FE;\n",
              "      --fill-color: #1967D2;\n",
              "      --hover-bg-color: #E2EBFA;\n",
              "      --hover-fill-color: #174EA6;\n",
              "      --disabled-fill-color: #AAA;\n",
              "      --disabled-bg-color: #DDD;\n",
              "  }\n",
              "\n",
              "  [theme=dark] .colab-df-quickchart {\n",
              "      --bg-color: #3B4455;\n",
              "      --fill-color: #D2E3FC;\n",
              "      --hover-bg-color: #434B5C;\n",
              "      --hover-fill-color: #FFFFFF;\n",
              "      --disabled-bg-color: #3B4455;\n",
              "      --disabled-fill-color: #666;\n",
              "  }\n",
              "\n",
              "  .colab-df-quickchart {\n",
              "    background-color: var(--bg-color);\n",
              "    border: none;\n",
              "    border-radius: 50%;\n",
              "    cursor: pointer;\n",
              "    display: none;\n",
              "    fill: var(--fill-color);\n",
              "    height: 32px;\n",
              "    padding: 0;\n",
              "    width: 32px;\n",
              "  }\n",
              "\n",
              "  .colab-df-quickchart:hover {\n",
              "    background-color: var(--hover-bg-color);\n",
              "    box-shadow: 0 1px 2px rgba(60, 64, 67, 0.3), 0 1px 3px 1px rgba(60, 64, 67, 0.15);\n",
              "    fill: var(--button-hover-fill-color);\n",
              "  }\n",
              "\n",
              "  .colab-df-quickchart-complete:disabled,\n",
              "  .colab-df-quickchart-complete:disabled:hover {\n",
              "    background-color: var(--disabled-bg-color);\n",
              "    fill: var(--disabled-fill-color);\n",
              "    box-shadow: none;\n",
              "  }\n",
              "\n",
              "  .colab-df-spinner {\n",
              "    border: 2px solid var(--fill-color);\n",
              "    border-color: transparent;\n",
              "    border-bottom-color: var(--fill-color);\n",
              "    animation:\n",
              "      spin 1s steps(1) infinite;\n",
              "  }\n",
              "\n",
              "  @keyframes spin {\n",
              "    0% {\n",
              "      border-color: transparent;\n",
              "      border-bottom-color: var(--fill-color);\n",
              "      border-left-color: var(--fill-color);\n",
              "    }\n",
              "    20% {\n",
              "      border-color: transparent;\n",
              "      border-left-color: var(--fill-color);\n",
              "      border-top-color: var(--fill-color);\n",
              "    }\n",
              "    30% {\n",
              "      border-color: transparent;\n",
              "      border-left-color: var(--fill-color);\n",
              "      border-top-color: var(--fill-color);\n",
              "      border-right-color: var(--fill-color);\n",
              "    }\n",
              "    40% {\n",
              "      border-color: transparent;\n",
              "      border-right-color: var(--fill-color);\n",
              "      border-top-color: var(--fill-color);\n",
              "    }\n",
              "    60% {\n",
              "      border-color: transparent;\n",
              "      border-right-color: var(--fill-color);\n",
              "    }\n",
              "    80% {\n",
              "      border-color: transparent;\n",
              "      border-right-color: var(--fill-color);\n",
              "      border-bottom-color: var(--fill-color);\n",
              "    }\n",
              "    90% {\n",
              "      border-color: transparent;\n",
              "      border-bottom-color: var(--fill-color);\n",
              "    }\n",
              "  }\n",
              "</style>\n",
              "\n",
              "  <script>\n",
              "    async function quickchart(key) {\n",
              "      const quickchartButtonEl =\n",
              "        document.querySelector('#' + key + ' button');\n",
              "      quickchartButtonEl.disabled = true;  // To prevent multiple clicks.\n",
              "      quickchartButtonEl.classList.add('colab-df-spinner');\n",
              "      try {\n",
              "        const charts = await google.colab.kernel.invokeFunction(\n",
              "            'suggestCharts', [key], {});\n",
              "      } catch (error) {\n",
              "        console.error('Error during call to suggestCharts:', error);\n",
              "      }\n",
              "      quickchartButtonEl.classList.remove('colab-df-spinner');\n",
              "      quickchartButtonEl.classList.add('colab-df-quickchart-complete');\n",
              "    }\n",
              "    (() => {\n",
              "      let quickchartButtonEl =\n",
              "        document.querySelector('#df-c4c76c14-e045-487f-816b-db2240ef1b73 button');\n",
              "      quickchartButtonEl.style.display =\n",
              "        google.colab.kernel.accessAllowed ? 'block' : 'none';\n",
              "    })();\n",
              "  </script>\n",
              "</div>\n",
              "\n",
              "    </div>\n",
              "  </div>\n"
            ],
            "application/vnd.google.colaboratory.intrinsic+json": {
              "type": "dataframe",
              "variable_name": "series",
              "summary": "{\n  \"name\": \"series\",\n  \"rows\": 52560,\n  \"fields\": [\n    {\n      \"column\": \"DateTime\",\n      \"properties\": {\n        \"dtype\": \"date\",\n        \"min\": \"2007-01-01 00:00:00\",\n        \"max\": \"2012-12-31 23:00:00\",\n        \"num_unique_values\": 52560,\n        \"samples\": [\n          \"2012-01-25 04:00:00\",\n          \"2009-04-22 08:00:00\",\n          \"2007-06-19 14:00:00\"\n        ],\n        \"semantic_type\": \"\",\n        \"description\": \"\"\n      }\n    },\n    {\n      \"column\": \"Air_temperature (cel)\",\n      \"properties\": {\n        \"dtype\": \"number\",\n        \"std\": 9.867688879896455,\n        \"min\": -14.066,\n        \"max\": 38.805,\n        \"num_unique_values\": 25816,\n        \"samples\": [\n          25.267,\n          10.793,\n          20.928\n        ],\n        \"semantic_type\": \"\",\n        \"description\": \"\"\n      }\n    },\n    {\n      \"column\": \"Pressure (atm)\",\n      \"properties\": {\n        \"dtype\": \"number\",\n        \"std\": 0.0053926479209179,\n        \"min\": 0.958598,\n        \"max\": 1.00558,\n        \"num_unique_values\": 17987,\n        \"samples\": [\n          0.980719,\n          0.980419,\n          0.987696\n        ],\n        \"semantic_type\": \"\",\n        \"description\": \"\"\n      }\n    },\n    {\n      \"column\": \"Wind_speed (m/s)\",\n      \"properties\": {\n        \"dtype\": \"number\",\n        \"std\": 3.009099023978573,\n        \"min\": 0.14,\n        \"max\": 19.725,\n        \"num_unique_values\": 11765,\n        \"samples\": [\n          6.887,\n          1.558,\n          8.767\n        ],\n        \"semantic_type\": \"\",\n        \"description\": \"\"\n      }\n    },\n    {\n      \"column\": \"Wind_direction (deg)\",\n      \"properties\": {\n        \"dtype\": \"number\",\n        \"std\": 98,\n        \"min\": 0,\n        \"max\": 360,\n        \"num_unique_values\": 361,\n        \"samples\": [\n          164,\n          34,\n          287\n        ],\n        \"semantic_type\": \"\",\n        \"description\": \"\"\n      }\n    },\n    {\n      \"column\": \"Power_generated_by_system (kW)\",\n      \"properties\": {\n        \"dtype\": \"number\",\n        \"std\": 17254.684483610094,\n        \"min\": 0.0,\n        \"max\": 61245.4,\n        \"num_unique_values\": 31895,\n        \"samples\": [\n          18808.5,\n          32259.2,\n          18018.0\n        ],\n        \"semantic_type\": \"\",\n        \"description\": \"\"\n      }\n    }\n  ]\n}"
            }
          },
          "metadata": {},
          "execution_count": 3
        }
      ]
    },
    {
      "cell_type": "code",
      "source": [
        "# Cleaning Data\n",
        "series['Power_generated_by_system (kW)'].replace(0, np.nan, inplace=True)\n",
        "series['Power_generated_by_system (kW)'].fillna(method='ffill', inplace=True)\n",
        "print(series)"
      ],
      "metadata": {
        "colab": {
          "base_uri": "https://localhost:8080/"
        },
        "id": "3lwzl2rHoLCG",
        "outputId": "9b6bb997-de04-49de-f599-27af7751c9f9"
      },
      "execution_count": null,
      "outputs": [
        {
          "output_type": "stream",
          "name": "stdout",
          "text": [
            "                     Air_temperature (cel)  Pressure (atm)  Wind_speed (m/s)  \\\n",
            "DateTime                                                                       \n",
            "2007-01-01 00:00:00                 10.926        0.979103             9.014   \n",
            "2007-01-01 01:00:00                  9.919        0.979566             9.428   \n",
            "2007-01-01 02:00:00                  8.567        0.979937             8.700   \n",
            "2007-01-01 03:00:00                  7.877        0.980053             8.481   \n",
            "2007-01-01 04:00:00                  7.259        0.979867             8.383   \n",
            "...                                    ...             ...               ...   \n",
            "2012-12-31 19:00:00                  3.306        0.994371             2.089   \n",
            "2012-12-31 20:00:00                  3.674        0.994060             1.785   \n",
            "2012-12-31 21:00:00                  3.015        0.993726             1.590   \n",
            "2012-12-31 22:00:00                 -0.317        0.993483             2.012   \n",
            "2012-12-31 23:00:00                 -1.048        0.993414             2.132   \n",
            "\n",
            "                     Wind_direction (deg)  Power_generated_by_system (kW)  \n",
            "DateTime                                                                   \n",
            "2007-01-01 00:00:00                   229                        33688.10  \n",
            "2007-01-01 01:00:00                   232                        37261.90  \n",
            "2007-01-01 02:00:00                   236                        30502.90  \n",
            "2007-01-01 03:00:00                   247                        28419.20  \n",
            "2007-01-01 04:00:00                   256                        27370.30  \n",
            "...                                   ...                             ...  \n",
            "2012-12-31 19:00:00                    15                         1561.25  \n",
            "2012-12-31 20:00:00                    23                         1561.25  \n",
            "2012-12-31 21:00:00                    35                         1561.25  \n",
            "2012-12-31 22:00:00                    45                         1561.25  \n",
            "2012-12-31 23:00:00                    39                         1561.25  \n",
            "\n",
            "[52560 rows x 5 columns]\n"
          ]
        }
      ]
    },
    {
      "cell_type": "code",
      "source": [
        "# initialize variables\n",
        "batch_size_exp = 1\n",
        "epoch_exp = 7\n",
        "neurons_exp = 10\n",
        "predict_values_exp = 24\n",
        "lag_exp=24"
      ],
      "metadata": {
        "id": "yy5NnZgfpco9"
      },
      "execution_count": null,
      "outputs": []
    },
    {
      "cell_type": "code",
      "source": [
        "# invert differenced value\n",
        "def inverse_difference(history, yhat, interval=1):\n",
        "    return yhat + history[-interval]"
      ],
      "metadata": {
        "id": "sbwSgnfhphJz"
      },
      "execution_count": null,
      "outputs": []
    },
    {
      "cell_type": "code",
      "source": [
        "# scale train and test data to [-1, 1]\n",
        "from sklearn.preprocessing import MinMaxScaler\n",
        "def scale(train, test):\n",
        "    # fit scaler\n",
        "    scaler = MinMaxScaler(feature_range=(-1, 1))\n",
        "    scaler = scaler.fit(train)\n",
        "    # transform train\n",
        "    train = train.reshape(train.shape[0], train.shape[1])\n",
        "    train_scaled = scaler.transform(train)\n",
        "    # transform test\n",
        "    test = test.reshape(test.shape[0], test.shape[1])\n",
        "    test_scaled = scaler.transform(test)\n",
        "    return scaler, train_scaled, test_scaled"
      ],
      "metadata": {
        "id": "Xgfg8jmcpjKZ"
      },
      "execution_count": null,
      "outputs": []
    },
    {
      "cell_type": "code",
      "source": [
        "# inverse scaling for a forecasted value\n",
        "def invert_scale(scaler, X, value):\n",
        "    new_row = [x for x in X] + [value]\n",
        "    array = np.array(new_row)\n",
        "    array = array.reshape(1, len(array))\n",
        "    inverted = scaler.inverse_transform(array)\n",
        "    return inverted[0, -1]"
      ],
      "metadata": {
        "id": "xIHTQ9hUplm4"
      },
      "execution_count": null,
      "outputs": []
    },
    {
      "cell_type": "code",
      "source": [
        "# fit an LSTM network to training data\n",
        "from keras.models import Sequential\n",
        "from keras.layers import Dense\n",
        "from keras.layers import LSTM\n",
        "def fit_lstm(train, batch_size, nb_epoch, neurons):\n",
        "    X, y = train[:, 0:-1], train[:, -1]\n",
        "    X = X.reshape(X.shape[0], 1, X.shape[1])\n",
        "    model = Sequential()\n",
        "    model.add(LSTM(neurons, batch_input_shape=(batch_size, X.shape[1], X.shape[2]), stateful=True))\n",
        "    model.add(Dense(1))\n",
        "    model.compile(loss='mean_squared_error', optimizer='adam')\n",
        "    for i in range(nb_epoch):\n",
        "        model.fit(X, y, epochs=1, batch_size=batch_size, verbose=1, shuffle=False)\n",
        "        model.reset_states()\n",
        "    return model"
      ],
      "metadata": {
        "id": "-mazy7wkpwBj"
      },
      "execution_count": null,
      "outputs": []
    },
    {
      "cell_type": "code",
      "source": [
        "# make a one-step forecast\n",
        "def forecast_lstm(model, batch_size, X):\n",
        "    X = X.reshape(1, 1, len(X))\n",
        "    #print(X)\n",
        "    yhat = model.predict(X, batch_size=1)\n",
        "    return yhat[0,0]"
      ],
      "metadata": {
        "id": "LPijoT_qp-4Z"
      },
      "execution_count": null,
      "outputs": []
    },
    {
      "cell_type": "code",
      "source": [
        "print(series.columns)"
      ],
      "metadata": {
        "colab": {
          "base_uri": "https://localhost:8080/"
        },
        "id": "u3tAj02IwsfJ",
        "outputId": "81c9dbba-486e-43bf-ed60-3d5c0f38ca83"
      },
      "execution_count": null,
      "outputs": [
        {
          "output_type": "stream",
          "name": "stdout",
          "text": [
            "Index(['Air temperature (Â°C)', 'Pressure (atm)', 'Wind speed (m/s)',\n",
            "       'Wind direction (deg)', 'Power generated by system (kW)'],\n",
            "      dtype='object')\n"
          ]
        }
      ]
    },
    {
      "cell_type": "code",
      "source": [
        "# Drop all the features as we will not be having any in production\n",
        "del series['Air_temperature (cel)']\n",
        "del series['Pressure (atm)']\n",
        "del series['Wind_speed (m/s)']\n",
        "del series['Wind_direction (deg)']"
      ],
      "metadata": {
        "id": "sp-pICcGqBLj"
      },
      "execution_count": null,
      "outputs": []
    },
    {
      "cell_type": "code",
      "source": [
        "for i in range(0,10):\n",
        "  series = series[:-1]\n",
        "series.tail()"
      ],
      "metadata": {
        "colab": {
          "base_uri": "https://localhost:8080/",
          "height": 238
        },
        "id": "nhozu6jIqDzS",
        "outputId": "ec37ea72-62c3-42ca-fc78-d014e170d424"
      },
      "execution_count": null,
      "outputs": [
        {
          "output_type": "execute_result",
          "data": {
            "text/plain": [
              "                     Power_generated_by_system (kW)\n",
              "DateTime                                           \n",
              "2012-12-31 09:00:00                         6110.57\n",
              "2012-12-31 10:00:00                         6251.34\n",
              "2012-12-31 11:00:00                         6899.17\n",
              "2012-12-31 12:00:00                         4514.49\n",
              "2012-12-31 13:00:00                         1561.25"
            ],
            "text/html": [
              "\n",
              "  <div id=\"df-1295df25-36b7-4e28-8fa9-56acdc95b5ea\" class=\"colab-df-container\">\n",
              "    <div>\n",
              "<style scoped>\n",
              "    .dataframe tbody tr th:only-of-type {\n",
              "        vertical-align: middle;\n",
              "    }\n",
              "\n",
              "    .dataframe tbody tr th {\n",
              "        vertical-align: top;\n",
              "    }\n",
              "\n",
              "    .dataframe thead th {\n",
              "        text-align: right;\n",
              "    }\n",
              "</style>\n",
              "<table border=\"1\" class=\"dataframe\">\n",
              "  <thead>\n",
              "    <tr style=\"text-align: right;\">\n",
              "      <th></th>\n",
              "      <th>Power_generated_by_system (kW)</th>\n",
              "    </tr>\n",
              "    <tr>\n",
              "      <th>DateTime</th>\n",
              "      <th></th>\n",
              "    </tr>\n",
              "  </thead>\n",
              "  <tbody>\n",
              "    <tr>\n",
              "      <th>2012-12-31 09:00:00</th>\n",
              "      <td>6110.57</td>\n",
              "    </tr>\n",
              "    <tr>\n",
              "      <th>2012-12-31 10:00:00</th>\n",
              "      <td>6251.34</td>\n",
              "    </tr>\n",
              "    <tr>\n",
              "      <th>2012-12-31 11:00:00</th>\n",
              "      <td>6899.17</td>\n",
              "    </tr>\n",
              "    <tr>\n",
              "      <th>2012-12-31 12:00:00</th>\n",
              "      <td>4514.49</td>\n",
              "    </tr>\n",
              "    <tr>\n",
              "      <th>2012-12-31 13:00:00</th>\n",
              "      <td>1561.25</td>\n",
              "    </tr>\n",
              "  </tbody>\n",
              "</table>\n",
              "</div>\n",
              "    <div class=\"colab-df-buttons\">\n",
              "\n",
              "  <div class=\"colab-df-container\">\n",
              "    <button class=\"colab-df-convert\" onclick=\"convertToInteractive('df-1295df25-36b7-4e28-8fa9-56acdc95b5ea')\"\n",
              "            title=\"Convert this dataframe to an interactive table.\"\n",
              "            style=\"display:none;\">\n",
              "\n",
              "  <svg xmlns=\"http://www.w3.org/2000/svg\" height=\"24px\" viewBox=\"0 -960 960 960\">\n",
              "    <path d=\"M120-120v-720h720v720H120Zm60-500h600v-160H180v160Zm220 220h160v-160H400v160Zm0 220h160v-160H400v160ZM180-400h160v-160H180v160Zm440 0h160v-160H620v160ZM180-180h160v-160H180v160Zm440 0h160v-160H620v160Z\"/>\n",
              "  </svg>\n",
              "    </button>\n",
              "\n",
              "  <style>\n",
              "    .colab-df-container {\n",
              "      display:flex;\n",
              "      gap: 12px;\n",
              "    }\n",
              "\n",
              "    .colab-df-convert {\n",
              "      background-color: #E8F0FE;\n",
              "      border: none;\n",
              "      border-radius: 50%;\n",
              "      cursor: pointer;\n",
              "      display: none;\n",
              "      fill: #1967D2;\n",
              "      height: 32px;\n",
              "      padding: 0 0 0 0;\n",
              "      width: 32px;\n",
              "    }\n",
              "\n",
              "    .colab-df-convert:hover {\n",
              "      background-color: #E2EBFA;\n",
              "      box-shadow: 0px 1px 2px rgba(60, 64, 67, 0.3), 0px 1px 3px 1px rgba(60, 64, 67, 0.15);\n",
              "      fill: #174EA6;\n",
              "    }\n",
              "\n",
              "    .colab-df-buttons div {\n",
              "      margin-bottom: 4px;\n",
              "    }\n",
              "\n",
              "    [theme=dark] .colab-df-convert {\n",
              "      background-color: #3B4455;\n",
              "      fill: #D2E3FC;\n",
              "    }\n",
              "\n",
              "    [theme=dark] .colab-df-convert:hover {\n",
              "      background-color: #434B5C;\n",
              "      box-shadow: 0px 1px 3px 1px rgba(0, 0, 0, 0.15);\n",
              "      filter: drop-shadow(0px 1px 2px rgba(0, 0, 0, 0.3));\n",
              "      fill: #FFFFFF;\n",
              "    }\n",
              "  </style>\n",
              "\n",
              "    <script>\n",
              "      const buttonEl =\n",
              "        document.querySelector('#df-1295df25-36b7-4e28-8fa9-56acdc95b5ea button.colab-df-convert');\n",
              "      buttonEl.style.display =\n",
              "        google.colab.kernel.accessAllowed ? 'block' : 'none';\n",
              "\n",
              "      async function convertToInteractive(key) {\n",
              "        const element = document.querySelector('#df-1295df25-36b7-4e28-8fa9-56acdc95b5ea');\n",
              "        const dataTable =\n",
              "          await google.colab.kernel.invokeFunction('convertToInteractive',\n",
              "                                                    [key], {});\n",
              "        if (!dataTable) return;\n",
              "\n",
              "        const docLinkHtml = 'Like what you see? Visit the ' +\n",
              "          '<a target=\"_blank\" href=https://colab.research.google.com/notebooks/data_table.ipynb>data table notebook</a>'\n",
              "          + ' to learn more about interactive tables.';\n",
              "        element.innerHTML = '';\n",
              "        dataTable['output_type'] = 'display_data';\n",
              "        await google.colab.output.renderOutput(dataTable, element);\n",
              "        const docLink = document.createElement('div');\n",
              "        docLink.innerHTML = docLinkHtml;\n",
              "        element.appendChild(docLink);\n",
              "      }\n",
              "    </script>\n",
              "  </div>\n",
              "\n",
              "\n",
              "<div id=\"df-2e53d294-7625-48f7-8c92-35f8b713790c\">\n",
              "  <button class=\"colab-df-quickchart\" onclick=\"quickchart('df-2e53d294-7625-48f7-8c92-35f8b713790c')\"\n",
              "            title=\"Suggest charts\"\n",
              "            style=\"display:none;\">\n",
              "\n",
              "<svg xmlns=\"http://www.w3.org/2000/svg\" height=\"24px\"viewBox=\"0 0 24 24\"\n",
              "     width=\"24px\">\n",
              "    <g>\n",
              "        <path d=\"M19 3H5c-1.1 0-2 .9-2 2v14c0 1.1.9 2 2 2h14c1.1 0 2-.9 2-2V5c0-1.1-.9-2-2-2zM9 17H7v-7h2v7zm4 0h-2V7h2v10zm4 0h-2v-4h2v4z\"/>\n",
              "    </g>\n",
              "</svg>\n",
              "  </button>\n",
              "\n",
              "<style>\n",
              "  .colab-df-quickchart {\n",
              "      --bg-color: #E8F0FE;\n",
              "      --fill-color: #1967D2;\n",
              "      --hover-bg-color: #E2EBFA;\n",
              "      --hover-fill-color: #174EA6;\n",
              "      --disabled-fill-color: #AAA;\n",
              "      --disabled-bg-color: #DDD;\n",
              "  }\n",
              "\n",
              "  [theme=dark] .colab-df-quickchart {\n",
              "      --bg-color: #3B4455;\n",
              "      --fill-color: #D2E3FC;\n",
              "      --hover-bg-color: #434B5C;\n",
              "      --hover-fill-color: #FFFFFF;\n",
              "      --disabled-bg-color: #3B4455;\n",
              "      --disabled-fill-color: #666;\n",
              "  }\n",
              "\n",
              "  .colab-df-quickchart {\n",
              "    background-color: var(--bg-color);\n",
              "    border: none;\n",
              "    border-radius: 50%;\n",
              "    cursor: pointer;\n",
              "    display: none;\n",
              "    fill: var(--fill-color);\n",
              "    height: 32px;\n",
              "    padding: 0;\n",
              "    width: 32px;\n",
              "  }\n",
              "\n",
              "  .colab-df-quickchart:hover {\n",
              "    background-color: var(--hover-bg-color);\n",
              "    box-shadow: 0 1px 2px rgba(60, 64, 67, 0.3), 0 1px 3px 1px rgba(60, 64, 67, 0.15);\n",
              "    fill: var(--button-hover-fill-color);\n",
              "  }\n",
              "\n",
              "  .colab-df-quickchart-complete:disabled,\n",
              "  .colab-df-quickchart-complete:disabled:hover {\n",
              "    background-color: var(--disabled-bg-color);\n",
              "    fill: var(--disabled-fill-color);\n",
              "    box-shadow: none;\n",
              "  }\n",
              "\n",
              "  .colab-df-spinner {\n",
              "    border: 2px solid var(--fill-color);\n",
              "    border-color: transparent;\n",
              "    border-bottom-color: var(--fill-color);\n",
              "    animation:\n",
              "      spin 1s steps(1) infinite;\n",
              "  }\n",
              "\n",
              "  @keyframes spin {\n",
              "    0% {\n",
              "      border-color: transparent;\n",
              "      border-bottom-color: var(--fill-color);\n",
              "      border-left-color: var(--fill-color);\n",
              "    }\n",
              "    20% {\n",
              "      border-color: transparent;\n",
              "      border-left-color: var(--fill-color);\n",
              "      border-top-color: var(--fill-color);\n",
              "    }\n",
              "    30% {\n",
              "      border-color: transparent;\n",
              "      border-left-color: var(--fill-color);\n",
              "      border-top-color: var(--fill-color);\n",
              "      border-right-color: var(--fill-color);\n",
              "    }\n",
              "    40% {\n",
              "      border-color: transparent;\n",
              "      border-right-color: var(--fill-color);\n",
              "      border-top-color: var(--fill-color);\n",
              "    }\n",
              "    60% {\n",
              "      border-color: transparent;\n",
              "      border-right-color: var(--fill-color);\n",
              "    }\n",
              "    80% {\n",
              "      border-color: transparent;\n",
              "      border-right-color: var(--fill-color);\n",
              "      border-bottom-color: var(--fill-color);\n",
              "    }\n",
              "    90% {\n",
              "      border-color: transparent;\n",
              "      border-bottom-color: var(--fill-color);\n",
              "    }\n",
              "  }\n",
              "</style>\n",
              "\n",
              "  <script>\n",
              "    async function quickchart(key) {\n",
              "      const quickchartButtonEl =\n",
              "        document.querySelector('#' + key + ' button');\n",
              "      quickchartButtonEl.disabled = true;  // To prevent multiple clicks.\n",
              "      quickchartButtonEl.classList.add('colab-df-spinner');\n",
              "      try {\n",
              "        const charts = await google.colab.kernel.invokeFunction(\n",
              "            'suggestCharts', [key], {});\n",
              "      } catch (error) {\n",
              "        console.error('Error during call to suggestCharts:', error);\n",
              "      }\n",
              "      quickchartButtonEl.classList.remove('colab-df-spinner');\n",
              "      quickchartButtonEl.classList.add('colab-df-quickchart-complete');\n",
              "    }\n",
              "    (() => {\n",
              "      let quickchartButtonEl =\n",
              "        document.querySelector('#df-2e53d294-7625-48f7-8c92-35f8b713790c button');\n",
              "      quickchartButtonEl.style.display =\n",
              "        google.colab.kernel.accessAllowed ? 'block' : 'none';\n",
              "    })();\n",
              "  </script>\n",
              "</div>\n",
              "\n",
              "    </div>\n",
              "  </div>\n"
            ],
            "application/vnd.google.colaboratory.intrinsic+json": {
              "type": "dataframe",
              "summary": "{\n  \"name\": \"series\",\n  \"rows\": 5,\n  \"fields\": [\n    {\n      \"column\": \"DateTime\",\n      \"properties\": {\n        \"dtype\": \"date\",\n        \"min\": \"2012-12-31 09:00:00\",\n        \"max\": \"2012-12-31 13:00:00\",\n        \"num_unique_values\": 5,\n        \"samples\": [\n          \"2012-12-31 10:00:00\",\n          \"2012-12-31 13:00:00\",\n          \"2012-12-31 11:00:00\"\n        ],\n        \"semantic_type\": \"\",\n        \"description\": \"\"\n      }\n    },\n    {\n      \"column\": \"Power_generated_by_system (kW)\",\n      \"properties\": {\n        \"dtype\": \"number\",\n        \"std\": 2147.3295153236263,\n        \"min\": 1561.25,\n        \"max\": 6899.17,\n        \"num_unique_values\": 5,\n        \"samples\": [\n          6251.34,\n          1561.25,\n          6899.17\n        ],\n        \"semantic_type\": \"\",\n        \"description\": \"\"\n      }\n    }\n  ]\n}"
            }
          },
          "metadata": {},
          "execution_count": 13
        }
      ]
    },
    {
      "cell_type": "code",
      "source": [
        "# create a differenced series\n",
        "from pandas import Series\n",
        "def difference(dataset, interval=1):\n",
        "    diff = list()\n",
        "    for i in range(interval, len(dataset)):\n",
        "        value = dataset[i] - dataset[i - interval]\n",
        "        diff.append(value)\n",
        "    return Series(diff)"
      ],
      "metadata": {
        "id": "3EkFia3HqGnA"
      },
      "execution_count": null,
      "outputs": []
    },
    {
      "cell_type": "code",
      "source": [
        "# transform data to be stationary\n",
        "raw_values = series.values\n",
        "diff_values = difference(raw_values, 1)"
      ],
      "metadata": {
        "id": "i_es19I7quI-"
      },
      "execution_count": null,
      "outputs": []
    },
    {
      "cell_type": "code",
      "source": [
        "# Print the raw and differenced values\n",
        "print(\"Raw values:\", raw_values)\n",
        "print(\"Differenced values:\", diff_values)"
      ],
      "metadata": {
        "colab": {
          "base_uri": "https://localhost:8080/"
        },
        "id": "b-QJewm4qv77",
        "outputId": "84b9f3e2-f5c5-4c05-af0d-82bdc73bd4ce"
      },
      "execution_count": null,
      "outputs": [
        {
          "output_type": "stream",
          "name": "stdout",
          "text": [
            "Raw values: [[33688.1 ]\n",
            " [37261.9 ]\n",
            " [30502.9 ]\n",
            " ...\n",
            " [ 6899.17]\n",
            " [ 4514.49]\n",
            " [ 1561.25]]\n",
            "Differenced values: 0          [3573.800000000003]\n",
            "1                    [-6759.0]\n",
            "2        [-2083.7000000000007]\n",
            "3        [-1048.9000000000015]\n",
            "4        [-1564.3999999999978]\n",
            "                 ...          \n",
            "52544     [308.46000000000004]\n",
            "52545     [140.77000000000044]\n",
            "52546      [647.8299999999999]\n",
            "52547    [-2384.6800000000003]\n",
            "52548               [-2953.24]\n",
            "Length: 52549, dtype: object\n"
          ]
        }
      ]
    },
    {
      "cell_type": "code",
      "source": [
        "# frame a sequence as a supervised learning problem\n",
        "from pandas import DataFrame\n",
        "from pandas import concat\n",
        "def timeseries_to_supervised(data, lag=1):\n",
        "    df = DataFrame(data)\n",
        "    columns = [df.shift(i) for i in range(1, lag+1)]\n",
        "    columns.append(df)\n",
        "    df = concat(columns, axis=1)\n",
        "    df.fillna(0, inplace=True)\n",
        "    return df"
      ],
      "metadata": {
        "id": "O53PhRlBqyu4"
      },
      "execution_count": null,
      "outputs": []
    },
    {
      "cell_type": "code",
      "source": [
        "# transform data to be supervised learning\n",
        "supervised = timeseries_to_supervised(diff_values, lag_exp)\n",
        "supervised_values = supervised.values"
      ],
      "metadata": {
        "id": "RPI0oa1Dq1JJ"
      },
      "execution_count": null,
      "outputs": []
    },
    {
      "cell_type": "code",
      "source": [
        "# Print the supervised values\n",
        "print(\"Supervised values:\", supervised_values)"
      ],
      "metadata": {
        "id": "4ZksfjxKq4e4",
        "colab": {
          "base_uri": "https://localhost:8080/"
        },
        "outputId": "cd0176b8-f75b-4893-ca6f-c4caaddb2843"
      },
      "execution_count": null,
      "outputs": [
        {
          "output_type": "stream",
          "name": "stdout",
          "text": [
            "Supervised values: [[0 0 0 ... 0 0 array([3573.8])]\n",
            " [array([3573.8]) 0 0 ... 0 0 array([-6759.])]\n",
            " [array([-6759.]) array([3573.8]) 0 ... 0 0 array([-2083.7])]\n",
            " ...\n",
            " [array([140.77]) array([308.46]) array([-663.24]) ... array([-4245.2])\n",
            "  array([4179.4]) array([647.83])]\n",
            " [array([647.83]) array([140.77]) array([308.46]) ... array([-4627.3])\n",
            "  array([-4245.2]) array([-2384.68])]\n",
            " [array([-2384.68]) array([647.83]) array([140.77]) ... array([-7407.7])\n",
            "  array([-4627.3]) array([-2953.24])]]\n"
          ]
        }
      ]
    },
    {
      "cell_type": "code",
      "source": [
        "# split data into train and test-sets\n",
        "train, test = supervised_values[0:-predict_values_exp], supervised_values[-predict_values_exp:]"
      ],
      "metadata": {
        "id": "WfzFrprUq6gI"
      },
      "execution_count": null,
      "outputs": []
    },
    {
      "cell_type": "code",
      "source": [
        "# transform the scale of the data\n",
        "scaler, train_scaled, test_scaled = scale(train, test)"
      ],
      "metadata": {
        "id": "cXAnVVnWq8qs"
      },
      "execution_count": null,
      "outputs": []
    },
    {
      "cell_type": "code",
      "source": [
        "# fit the model\n",
        "lstm_model = fit_lstm(train_scaled, batch_size_exp, epoch_exp, neurons_exp)"
      ],
      "metadata": {
        "colab": {
          "base_uri": "https://localhost:8080/"
        },
        "id": "hbe3FuLmq_ob",
        "outputId": "afb56da9-3839-49d0-9679-2202790adb84"
      },
      "execution_count": null,
      "outputs": [
        {
          "output_type": "stream",
          "name": "stdout",
          "text": [
            "52525/52525 [==============================] - 124s 2ms/step - loss: 0.0141\n",
            "52525/52525 [==============================] - 120s 2ms/step - loss: 0.0138\n",
            "52525/52525 [==============================] - 122s 2ms/step - loss: 0.0135\n",
            "52525/52525 [==============================] - 122s 2ms/step - loss: 0.0134\n",
            "52525/52525 [==============================] - 123s 2ms/step - loss: 0.0133\n",
            "52525/52525 [==============================] - 124s 2ms/step - loss: 0.0132\n",
            "52525/52525 [==============================] - 121s 2ms/step - loss: 0.0132\n"
          ]
        }
      ]
    },
    {
      "cell_type": "code",
      "source": [
        "import tensorflow as tf\n",
        "\n",
        "tf.get_logger().setLevel('ERROR')"
      ],
      "metadata": {
        "id": "jZe4is19rD9d"
      },
      "execution_count": null,
      "outputs": []
    },
    {
      "cell_type": "code",
      "source": [
        "import warnings\n",
        "\n",
        "warnings.filterwarnings('ignore')"
      ],
      "metadata": {
        "id": "dE0pE0nzrExl"
      },
      "execution_count": null,
      "outputs": []
    },
    {
      "cell_type": "code",
      "source": [
        "# walk-forward validation on the test data\n",
        "predictions = list()\n",
        "expectations = list()\n",
        "test_pred = list()\n",
        "\n",
        "# Classify power level using CNN\n",
        "def classify_power_level(prediction, low_threshold, high_threshold):\n",
        "    if prediction < low_threshold:\n",
        "        return 'low'\n",
        "    elif prediction >= high_threshold:\n",
        "        return 'high'\n",
        "    else:\n",
        "        return 'mid'\n",
        "\n",
        "# Set your low and high thresholds\n",
        "low_threshold = 15000\n",
        "high_threshold = 30000\n",
        "\n",
        "# Display Hour, Predicted, Expected, and Classified Power Level\n",
        "expectations = np.array([])\n",
        "for i in range(len(test_scaled)):\n",
        "    X, y = test_scaled[i, 0:-1], test_scaled[i, -1]\n",
        "    yhat = forecast_lstm(lstm_model, 1, X)  # make one-step forecast\n",
        "    test_pred = np.array([yhat] + list(test_pred))  # Convert to numpy array for concatenation\n",
        "    if i + 1 < len(test_scaled):\n",
        "        end_idx = min(len(test_scaled[i+1]), len(test_pred))\n",
        "        test_scaled[i + 1] = np.concatenate((test_pred[:end_idx], test_scaled[i + 1, end_idx:]), axis=0)\n",
        "    yhat = invert_scale(scaler, X, yhat)\n",
        "    yhat = inverse_difference(raw_values, yhat, len(test_scaled) + 1 - i)\n",
        "    predictions = np.append(predictions, yhat)  # Use np.append instead\n",
        "    expected = raw_values[len(train) + i + 1]\n",
        "    expectations = np.append(expectations, expected)  # Add expected value to the array"
      ],
      "metadata": {
        "colab": {
          "base_uri": "https://localhost:8080/"
        },
        "id": "WVmeQMA9VrZu",
        "outputId": "58fd855f-5e66-411b-82db-78ad61b4370f"
      },
      "execution_count": null,
      "outputs": [
        {
          "output_type": "stream",
          "name": "stdout",
          "text": [
            "1/1 [==============================] - 0s 81ms/step\n",
            "1/1 [==============================] - 0s 33ms/step\n",
            "1/1 [==============================] - 0s 26ms/step\n",
            "1/1 [==============================] - 0s 22ms/step\n",
            "1/1 [==============================] - 0s 19ms/step\n",
            "1/1 [==============================] - 0s 20ms/step\n",
            "1/1 [==============================] - 0s 20ms/step\n",
            "1/1 [==============================] - 0s 19ms/step\n",
            "1/1 [==============================] - 0s 20ms/step\n",
            "1/1 [==============================] - 0s 20ms/step\n",
            "1/1 [==============================] - 0s 21ms/step\n",
            "1/1 [==============================] - 0s 20ms/step\n",
            "1/1 [==============================] - 0s 19ms/step\n",
            "1/1 [==============================] - 0s 22ms/step\n",
            "1/1 [==============================] - 0s 18ms/step\n",
            "1/1 [==============================] - 0s 20ms/step\n",
            "1/1 [==============================] - 0s 20ms/step\n",
            "1/1 [==============================] - 0s 20ms/step\n",
            "1/1 [==============================] - 0s 20ms/step\n",
            "1/1 [==============================] - 0s 20ms/step\n",
            "1/1 [==============================] - 0s 19ms/step\n",
            "1/1 [==============================] - 0s 19ms/step\n",
            "1/1 [==============================] - 0s 20ms/step\n",
            "1/1 [==============================] - 0s 22ms/step\n"
          ]
        }
      ]
    },
    {
      "cell_type": "code",
      "source": [
        "# Print the results separately\n",
        "for i in range(len(predictions)):\n",
        "    classified_power_level = classify_power_level(predictions[i], low_threshold, high_threshold)\n",
        "    print('Hour=%d, Predicted=%f, Expected=%f, Classified=%s' % (i + 1, predictions[i], expectations[i], classified_power_level))"
      ],
      "metadata": {
        "colab": {
          "base_uri": "https://localhost:8080/"
        },
        "id": "rXLn3QM1VxPf",
        "outputId": "ed9005ed-f79a-40d5-e3b1-0bf48ef1e436"
      },
      "execution_count": null,
      "outputs": [
        {
          "output_type": "stream",
          "name": "stdout",
          "text": [
            "Hour=1, Predicted=27137.839927, Expected=20005.800000, Classified=mid\n",
            "Hour=2, Predicted=20603.973719, Expected=19870.600000, Classified=mid\n",
            "Hour=3, Predicted=20033.384454, Expected=23296.700000, Classified=mid\n",
            "Hour=4, Predicted=21174.780584, Expected=36275.400000, Classified=mid\n",
            "Hour=5, Predicted=33825.002809, Expected=41119.700000, Classified=high\n",
            "Hour=6, Predicted=38744.740593, Expected=45831.200000, Classified=high\n",
            "Hour=7, Predicted=44716.358787, Expected=38451.600000, Classified=high\n",
            "Hour=8, Predicted=39342.733652, Expected=38107.700000, Classified=high\n",
            "Hour=9, Predicted=39049.110602, Expected=36325.100000, Classified=high\n",
            "Hour=10, Predicted=35859.245418, Expected=37641.300000, Classified=high\n",
            "Hour=11, Predicted=37129.761332, Expected=36876.500000, Classified=high\n",
            "Hour=12, Predicted=36775.006753, Expected=35723.600000, Classified=high\n",
            "Hour=13, Predicted=35477.927398, Expected=28221.500000, Classified=high\n",
            "Hour=14, Predicted=26995.580785, Expected=22650.000000, Classified=mid\n",
            "Hour=15, Predicted=21892.485387, Expected=14845.100000, Classified=mid\n",
            "Hour=16, Predicted=14265.161406, Expected=11449.700000, Classified=low\n",
            "Hour=17, Predicted=11359.603803, Expected=11637.200000, Classified=low\n",
            "Hour=18, Predicted=11911.628003, Expected=6465.350000, Classified=low\n",
            "Hour=19, Predicted=7406.004793, Expected=5802.110000, Classified=low\n",
            "Hour=20, Predicted=7365.673527, Expected=6110.570000, Classified=low\n",
            "Hour=21, Predicted=7897.531822, Expected=6251.340000, Classified=low\n",
            "Hour=22, Predicted=7793.590827, Expected=6899.170000, Classified=low\n",
            "Hour=23, Predicted=8007.758116, Expected=4514.490000, Classified=low\n",
            "Hour=24, Predicted=5497.256619, Expected=1561.250000, Classified=low\n"
          ]
        }
      ]
    },
    {
      "cell_type": "code",
      "source": [
        "# Convert predictions and expectations to numpy arrays\n",
        "expectations = np.array(expectations)\n",
        "predictions = np.array(predictions)\n",
        "\n",
        "# Calculate MAPE\n",
        "mape = np.mean(np.abs((expectations - predictions) / expectations)) * 100\n",
        "print(\"Mean Absolute Percent Error: \", mape)"
      ],
      "metadata": {
        "colab": {
          "base_uri": "https://localhost:8080/"
        },
        "id": "pXzWa4X9rNw9",
        "outputId": "67f63afb-a28a-462c-9fe7-6fa024a724aa"
      },
      "execution_count": null,
      "outputs": [
        {
          "output_type": "stream",
          "name": "stdout",
          "text": [
            "Mean Absolute Percent Error:  32.6718756815996\n"
          ]
        }
      ]
    },
    {
      "cell_type": "code",
      "source": [
        "from matplotlib import pyplot\n",
        "pyplot.plot(raw_values[-predict_values_exp:], label=\"True\")\n",
        "pyplot.plot(predictions, label=\"Predicted\")\n",
        "pyplot.legend(loc='upper right')\n",
        "pyplot.xlabel(\"Number of hours\")\n",
        "pyplot.ylabel(\"Power generated by system (kW)\")\n",
        "pyplot.show()"
      ],
      "metadata": {
        "colab": {
          "base_uri": "https://localhost:8080/",
          "height": 449
        },
        "id": "KWDieHNIrP3n",
        "outputId": "9cceb324-817a-4638-8d30-dc52ac162759"
      },
      "execution_count": null,
      "outputs": [
        {
          "output_type": "display_data",
          "data": {
            "text/plain": [
              "<Figure size 640x480 with 1 Axes>"
            ],
            "image/png": "[encoded data removed]"
          },
          "metadata": {}
        }
      ]
    },
    {
      "cell_type": "code",
      "source": [
        "from keras.models import save_model\n",
        "\n",
        "# Save the model\n",
        "lstm_model.save('lstm_model.h5')"
      ],
      "metadata": {
        "id": "4CSaTXru7ZgY"
      },
      "execution_count": null,
      "outputs": []
    },
    {
      "cell_type": "code",
      "source": [
        "import numpy as np\n",
        "from tensorflow.keras.models import load_model\n",
        "\n",
        "# Define the function to normalize input features\n",
        "def normalize_features(features):\n",
        "    # Assuming the original range for each feature was 0 to 100\n",
        "    return features / 100.0\n",
        "\n",
        "# Define the function to denormalize the prediction\n",
        "def denormalize_prediction(prediction):\n",
        "    # Assuming the denormalization range for power is 0 to 6000 kW\n",
        "    return abs(prediction) * 6000.0\n",
        "\n",
        "# Load the trained LSTM model\n",
        "lstm_model = load_model('/content/lstm_model.h5')\n",
        "\n",
        "# Take user input for the four features\n",
        "air_temperature = float(input(\"Enter air temperature (°C): \"))\n",
        "pressure = float(input(\"Enter pressure (atm): \"))\n",
        "wind_speed = float(input(\"Enter wind speed (m/s): \"))\n",
        "wind_direction = float(input(\"Enter wind direction (deg): \"))\n",
        "\n",
        "# Normalize the input features\n",
        "input_features = np.array([[air_temperature, pressure, wind_speed, wind_direction]])\n",
        "normalized_features = normalize_features(input_features)\n",
        "\n",
        "# Expand the input features to match the expected shape (batch_size, 1, 24)\n",
        "normalized_features_expanded = np.zeros((normalized_features.shape[0], 1, 24))\n",
        "normalized_features_expanded[:, :, :4] = normalized_features\n",
        "\n",
        "# Make a prediction using the LSTM model\n",
        "prediction = lstm_model.predict(normalized_features_expanded)\n",
        "\n",
        "# Denormalize the prediction\n",
        "predicted_power = denormalize_prediction(prediction[0][0])\n",
        "\n",
        "# Display the predicted power output\n",
        "print(\"Predicted power generated by the system:\", predicted_power, \"kW\")"
      ],
      "metadata": {
        "id": "StTFFHH07aK4"
      },
      "execution_count": null,
      "outputs": []
    }
  ]
}

{
  "nbformat": 4,
  "nbformat_minor": 0,
  "metadata": {
    "colab": {
      "provenance": [],
      "gpuType": "T4"
    },
    "kernelspec": {
      "name": "python3",
      "display_name": "Python 3"
    },
    "language_info": {
      "name": "python"
    },
    "accelerator": "GPU"
  },
  "cells": [
    {
      "cell_type": "code",
      "execution_count": null,
      "metadata": {
        "colab": {
          "base_uri": "https://localhost:8080/"
        },
        "id": "nzBq0Mfnndk0",
        "outputId": "933eb131-ceb1-4bad-8ca8-55bb867283a1"
      },
      "outputs": [
        {
          "output_type": "stream",
          "name": "stdout",
          "text": [
            "2.15.0\n",
            "[PhysicalDevice(name='/physical_device:CPU:0', device_type='CPU')]\n"
          ]
        }
      ],
      "source": [
        "# import TensorFlow\n",
        "import tensorflow as tf\n",
        "\n",
        "#Check the version of TensorFlow you are using\n",
        "print(tf.__version__)\n",
        "print(tf.config.list_physical_devices('CPU'))"
      ]
    },
    {
      "cell_type": "code",
      "source": [
        "import numpy as np\n",
        "import pandas as pd"
      ],
      "metadata": {
        "id": "T3TMV8m9n3-6"
      },
      "execution_count": null,
      "outputs": []
    },
    {
      "cell_type": "code",
      "source": [
        "series = pd.read_excel('/content/sample_data/AL_WIND_07_12.xlsx',index_col=\"DateTime\")\n",
        "series.head()"
      ],
      "metadata": {
        "colab": {
          "base_uri": "https://localhost:8080/",
          "height": 238
        },
        "id": "ok1CffUFn4wi",
        "outputId": "f9dd9be9-f1a1-45e7-fbae-cf94261cf7c3"
      },
      "execution_count": null,
      "outputs": [
        {
          "output_type": "execute_result",
          "data": {
            "text/plain": [
              "                     Air temperature(cel)  Pressure (atm)  Wind_speed (m/s)  \\\n",
              "DateTime                                                                      \n",
              "2007-01-01 00:00:00                10.926        0.979103             9.014   \n",
              "2007-01-01 01:00:00                 9.919        0.979566             9.428   \n",
              "2007-01-01 02:00:00                 8.567        0.979937             8.700   \n",
              "2007-01-01 03:00:00                 7.877        0.980053             8.481   \n",
              "2007-01-01 04:00:00                 7.259        0.979867             8.383   \n",
              "\n",
              "                     Wind_direction (deg)  Power_generated_by_system (kW)  \n",
              "DateTime                                                                   \n",
              "2007-01-01 00:00:00                   229                         33688.1  \n",
              "2007-01-01 01:00:00                   232                         37261.9  \n",
              "2007-01-01 02:00:00                   236                         30502.9  \n",
              "2007-01-01 03:00:00                   247                         28419.2  \n",
              "2007-01-01 04:00:00                   256                         27370.3  "
            ],
            "text/html": [
              "\n",
              "  <div id=\"df-a92d4eec-7092-4864-9821-969689622970\" class=\"colab-df-container\">\n",
              "    <div>\n",
              "<style scoped>\n",
              "    .dataframe tbody tr th:only-of-type {\n",
              "        vertical-align: middle;\n",
              "    }\n",
              "\n",
              "    .dataframe tbody tr th {\n",
              "        vertical-align: top;\n",
              "    }\n",
              "\n",
              "    .dataframe thead th {\n",
              "        text-align: right;\n",
              "    }\n",
              "</style>\n",
              "<table border=\"1\" class=\"dataframe\">\n",
              "  <thead>\n",
              "    <tr style=\"text-align: right;\">\n",
              "      <th></th>\n",
              "      <th>Air temperature(cel)</th>\n",
              "      <th>Pressure (atm)</th>\n",
              "      <th>Wind_speed (m/s)</th>\n",
              "      <th>Wind_direction (deg)</th>\n",
              "      <th>Power_generated_by_system (kW)</th>\n",
              "    </tr>\n",
              "    <tr>\n",
              "      <th>DateTime</th>\n",
              "      <th></th>\n",
              "      <th></th>\n",
              "      <th></th>\n",
              "      <th></th>\n",
              "      <th></th>\n",
              "    </tr>\n",
              "  </thead>\n",
              "  <tbody>\n",
              "    <tr>\n",
              "      <th>2007-01-01 00:00:00</th>\n",
              "      <td>10.926</td>\n",
              "      <td>0.979103</td>\n",
              "      <td>9.014</td>\n",
              "      <td>229</td>\n",
              "      <td>33688.1</td>\n",
              "    </tr>\n",
              "    <tr>\n",
              "      <th>2007-01-01 01:00:00</th>\n",
              "      <td>9.919</td>\n",
              "      <td>0.979566</td>\n",
              "      <td>9.428</td>\n",
              "      <td>232</td>\n",
              "      <td>37261.9</td>\n",
              "    </tr>\n",
              "    <tr>\n",
              "      <th>2007-01-01 02:00:00</th>\n",
              "      <td>8.567</td>\n",
              "      <td>0.979937</td>\n",
              "      <td>8.700</td>\n",
              "      <td>236</td>\n",
              "      <td>30502.9</td>\n",
              "    </tr>\n",
              "    <tr>\n",
              "      <th>2007-01-01 03:00:00</th>\n",
              "      <td>7.877</td>\n",
              "      <td>0.980053</td>\n",
              "      <td>8.481</td>\n",
              "      <td>247</td>\n",
              "      <td>28419.2</td>\n",
              "    </tr>\n",
              "    <tr>\n",
              "      <th>2007-01-01 04:00:00</th>\n",
              "      <td>7.259</td>\n",
              "      <td>0.979867</td>\n",
              "      <td>8.383</td>\n",
              "      <td>256</td>\n",
              "      <td>27370.3</td>\n",
              "    </tr>\n",
              "  </tbody>\n",
              "</table>\n",
              "</div>\n",
              "    <div class=\"colab-df-buttons\">\n",
              "\n",
              "  <div class=\"colab-df-container\">\n",
              "    <button class=\"colab-df-convert\" onclick=\"convertToInteractive('df-a92d4eec-7092-4864-9821-969689622970')\"\n",
              "            title=\"Convert this dataframe to an interactive table.\"\n",
              "            style=\"display:none;\">\n",
              "\n",
              "  <svg xmlns=\"http://www.w3.org/2000/svg\" height=\"24px\" viewBox=\"0 -960 960 960\">\n",
              "    <path d=\"M120-120v-720h720v720H120Zm60-500h600v-160H180v160Zm220 220h160v-160H400v160Zm0 220h160v-160H400v160ZM180-400h160v-160H180v160Zm440 0h160v-160H620v160ZM180-180h160v-160H180v160Zm440 0h160v-160H620v160Z\"/>\n",
              "  </svg>\n",
              "    </button>\n",
              "\n",
              "  <style>\n",
              "    .colab-df-container {\n",
              "      display:flex;\n",
              "      gap: 12px;\n",
              "    }\n",
              "\n",
              "    .colab-df-convert {\n",
              "      background-color: #E8F0FE;\n",
              "      border: none;\n",
              "      border-radius: 50%;\n",
              "      cursor: pointer;\n",
              "      display: none;\n",
              "      fill: #1967D2;\n",
              "      height: 32px;\n",
              "      padding: 0 0 0 0;\n",
              "      width: 32px;\n",
              "    }\n",
              "\n",
              "    .colab-df-convert:hover {\n",
              "      background-color: #E2EBFA;\n",
              "      box-shadow: 0px 1px 2px rgba(60, 64, 67, 0.3), 0px 1px 3px 1px rgba(60, 64, 67, 0.15);\n",
              "      fill: #174EA6;\n",
              "    }\n",
              "\n",
              "    .colab-df-buttons div {\n",
              "      margin-bottom: 4px;\n",
              "    }\n",
              "\n",
              "    [theme=dark] .colab-df-convert {\n",
              "      background-color: #3B4455;\n",
              "      fill: #D2E3FC;\n",
              "    }\n",
              "\n",
              "    [theme=dark] .colab-df-convert:hover {\n",
              "      background-color: #434B5C;\n",
              "      box-shadow: 0px 1px 3px 1px rgba(0, 0, 0, 0.15);\n",
              "      filter: drop-shadow(0px 1px 2px rgba(0, 0, 0, 0.3));\n",
              "      fill: #FFFFFF;\n",
              "    }\n",
              "  </style>\n",
              "\n",
              "    <script>\n",
              "      const buttonEl =\n",
              "        document.querySelector('#df-a92d4eec-7092-4864-9821-969689622970 button.colab-df-convert');\n",
              "      buttonEl.style.display =\n",
              "        google.colab.kernel.accessAllowed ? 'block' : 'none';\n",
              "\n",
              "      async function convertToInteractive(key) {\n",
              "        const element = document.querySelector('#df-a92d4eec-7092-4864-9821-969689622970');\n",
              "        const dataTable =\n",
              "          await google.colab.kernel.invokeFunction('convertToInteractive',\n",
              "                                                    [key], {});\n",
              "        if (!dataTable) return;\n",
              "\n",
              "        const docLinkHtml = 'Like what you see? Visit the ' +\n",
              "          '<a target=\"_blank\" href=https://colab.research.google.com/notebooks/data_table.ipynb>data table notebook</a>'\n",
              "          + ' to learn more about interactive tables.';\n",
              "        element.innerHTML = '';\n",
              "        dataTable['output_type'] = 'display_data';\n",
              "        await google.colab.output.renderOutput(dataTable, element);\n",
              "        const docLink = document.createElement('div');\n",
              "        docLink.innerHTML = docLinkHtml;\n",
              "        element.appendChild(docLink);\n",
              "      }\n",
              "    </script>\n",
              "  </div>\n",
              "\n",
              "\n",
              "<div id=\"df-3cebedfb-9db0-4e46-8a32-ba85d1e205d5\">\n",
              "  <button class=\"colab-df-quickchart\" onclick=\"quickchart('df-3cebedfb-9db0-4e46-8a32-ba85d1e205d5')\"\n",
              "            title=\"Suggest charts\"\n",
              "            style=\"display:none;\">\n",
              "\n",
              "<svg xmlns=\"http://www.w3.org/2000/svg\" height=\"24px\"viewBox=\"0 0 24 24\"\n",
              "     width=\"24px\">\n",
              "    <g>\n",
              "        <path d=\"M19 3H5c-1.1 0-2 .9-2 2v14c0 1.1.9 2 2 2h14c1.1 0 2-.9 2-2V5c0-1.1-.9-2-2-2zM9 17H7v-7h2v7zm4 0h-2V7h2v10zm4 0h-2v-4h2v4z\"/>\n",
              "    </g>\n",
              "</svg>\n",
              "  </button>\n",
              "\n",
              "<style>\n",
              "  .colab-df-quickchart {\n",
              "      --bg-color: #E8F0FE;\n",
              "      --fill-color: #1967D2;\n",
              "      --hover-bg-color: #E2EBFA;\n",
              "      --hover-fill-color: #174EA6;\n",
              "      --disabled-fill-color: #AAA;\n",
              "      --disabled-bg-color: #DDD;\n",
              "  }\n",
              "\n",
              "  [theme=dark] .colab-df-quickchart {\n",
              "      --bg-color: #3B4455;\n",
              "      --fill-color: #D2E3FC;\n",
              "      --hover-bg-color: #434B5C;\n",
              "      --hover-fill-color: #FFFFFF;\n",
              "      --disabled-bg-color: #3B4455;\n",
              "      --disabled-fill-color: #666;\n",
              "  }\n",
              "\n",
              "  .colab-df-quickchart {\n",
              "    background-color: var(--bg-color);\n",
              "    border: none;\n",
              "    border-radius: 50%;\n",
              "    cursor: pointer;\n",
              "    display: none;\n",
              "    fill: var(--fill-color);\n",
              "    height: 32px;\n",
              "    padding: 0;\n",
              "    width: 32px;\n",
              "  }\n",
              "\n",
              "  .colab-df-quickchart:hover {\n",
              "    background-color: var(--hover-bg-color);\n",
              "    box-shadow: 0 1px 2px rgba(60, 64, 67, 0.3), 0 1px 3px 1px rgba(60, 64, 67, 0.15);\n",
              "    fill: var(--button-hover-fill-color);\n",
              "  }\n",
              "\n",
              "  .colab-df-quickchart-complete:disabled,\n",
              "  .colab-df-quickchart-complete:disabled:hover {\n",
              "    background-color: var(--disabled-bg-color);\n",
              "    fill: var(--disabled-fill-color);\n",
              "    box-shadow: none;\n",
              "  }\n",
              "\n",
              "  .colab-df-spinner {\n",
              "    border: 2px solid var(--fill-color);\n",
              "    border-color: transparent;\n",
              "    border-bottom-color: var(--fill-color);\n",
              "    animation:\n",
              "      spin 1s steps(1) infinite;\n",
              "  }\n",
              "\n",
              "  @keyframes spin {\n",
              "    0% {\n",
              "      border-color: transparent;\n",
              "      border-bottom-color: var(--fill-color);\n",
              "      border-left-color: var(--fill-color);\n",
              "    }\n",
              "    20% {\n",
              "      border-color: transparent;\n",
              "      border-left-color: var(--fill-color);\n",
              "      border-top-color: var(--fill-color);\n",
              "    }\n",
              "    30% {\n",
              "      border-color: transparent;\n",
              "      border-left-color: var(--fill-color);\n",
              "      border-top-color: var(--fill-color);\n",
              "      border-right-color: var(--fill-color);\n",
              "    }\n",
              "    40% {\n",
              "      border-color: transparent;\n",
              "      border-right-color: var(--fill-color);\n",
              "      border-top-color: var(--fill-color);\n",
              "    }\n",
              "    60% {\n",
              "      border-color: transparent;\n",
              "      border-right-color: var(--fill-color);\n",
              "    }\n",
              "    80% {\n",
              "      border-color: transparent;\n",
              "      border-right-color: var(--fill-color);\n",
              "      border-bottom-color: var(--fill-color);\n",
              "    }\n",
              "    90% {\n",
              "      border-color: transparent;\n",
              "      border-bottom-color: var(--fill-color);\n",
              "    }\n",
              "  }\n",
              "</style>\n",
              "\n",
              "  <script>\n",
              "    async function quickchart(key) {\n",
              "      const quickchartButtonEl =\n",
              "        document.querySelector('#' + key + ' button');\n",
              "      quickchartButtonEl.disabled = true;  // To prevent multiple clicks.\n",
              "      quickchartButtonEl.classList.add('colab-df-spinner');\n",
              "      try {\n",
              "        const charts = await google.colab.kernel.invokeFunction(\n",
              "            'suggestCharts', [key], {});\n",
              "      } catch (error) {\n",
              "        console.error('Error during call to suggestCharts:', error);\n",
              "      }\n",
              "      quickchartButtonEl.classList.remove('colab-df-spinner');\n",
              "      quickchartButtonEl.classList.add('colab-df-quickchart-complete');\n",
              "    }\n",
              "    (() => {\n",
              "      let quickchartButtonEl =\n",
              "        document.querySelector('#df-3cebedfb-9db0-4e46-8a32-ba85d1e205d5 button');\n",
              "      quickchartButtonEl.style.display =\n",
              "        google.colab.kernel.accessAllowed ? 'block' : 'none';\n",
              "    })();\n",
              "  </script>\n",
              "</div>\n",
              "\n",
              "    </div>\n",
              "  </div>\n"
            ],
            "application/vnd.google.colaboratory.intrinsic+json": {
              "type": "dataframe",
              "variable_name": "series",
              "summary": "{\n  \"name\": \"series\",\n  \"rows\": 52560,\n  \"fields\": [\n    {\n      \"column\": \"DateTime\",\n      \"properties\": {\n        \"dtype\": \"date\",\n        \"min\": \"2007-01-01 00:00:00\",\n        \"max\": \"2012-12-31 23:00:00\",\n        \"num_unique_values\": 52560,\n        \"samples\": [\n          \"2012-01-25 04:00:00\",\n          \"2009-04-22 08:00:00\",\n          \"2007-06-19 14:00:00\"\n        ],\n        \"semantic_type\": \"\",\n        \"description\": \"\"\n      }\n    },\n    {\n      \"column\": \"Air temperature(cel)\",\n      \"properties\": {\n        \"dtype\": \"number\",\n        \"std\": 9.867688879896455,\n        \"min\": -14.066,\n        \"max\": 38.805,\n        \"num_unique_values\": 25816,\n        \"samples\": [\n          25.267,\n          10.793,\n          20.928\n        ],\n        \"semantic_type\": \"\",\n        \"description\": \"\"\n      }\n    },\n    {\n      \"column\": \"Pressure (atm)\",\n      \"properties\": {\n        \"dtype\": \"number\",\n        \"std\": 0.0053926479209179,\n        \"min\": 0.958598,\n        \"max\": 1.00558,\n        \"num_unique_values\": 17987,\n        \"samples\": [\n          0.980719,\n          0.980419,\n          0.987696\n        ],\n        \"semantic_type\": \"\",\n        \"description\": \"\"\n      }\n    },\n    {\n      \"column\": \"Wind_speed (m/s)\",\n      \"properties\": {\n        \"dtype\": \"number\",\n        \"std\": 3.009099023978573,\n        \"min\": 0.14,\n        \"max\": 19.725,\n        \"num_unique_values\": 11765,\n        \"samples\": [\n          6.887,\n          1.558,\n          8.767\n        ],\n        \"semantic_type\": \"\",\n        \"description\": \"\"\n      }\n    },\n    {\n      \"column\": \"Wind_direction (deg)\",\n      \"properties\": {\n        \"dtype\": \"number\",\n        \"std\": 98,\n        \"min\": 0,\n        \"max\": 360,\n        \"num_unique_values\": 361,\n        \"samples\": [\n          164,\n          34,\n          287\n        ],\n        \"semantic_type\": \"\",\n        \"description\": \"\"\n      }\n    },\n    {\n      \"column\": \"Power_generated_by_system (kW)\",\n      \"properties\": {\n        \"dtype\": \"number\",\n        \"std\": 17254.684483610094,\n        \"min\": 0.0,\n        \"max\": 61245.4,\n        \"num_unique_values\": 31895,\n        \"samples\": [\n          18808.5,\n          32259.2,\n          18018.0\n        ],\n        \"semantic_type\": \"\",\n        \"description\": \"\"\n      }\n    }\n  ]\n}"
            }
          },
          "metadata": {},
          "execution_count": 381
        }
      ]
    },
    {
      "cell_type": "code",
      "source": [
        "series = series.dropna()\n",
        "series = series[series > 0]\n",
        "series.head()"
      ],
      "metadata": {
        "colab": {
          "base_uri": "https://localhost:8080/",
          "height": 238
        },
        "id": "pnek3vPOcaJu",
        "outputId": "fe306186-b93d-47d0-8e13-62ad1c6b0086"
      },
      "execution_count": null,
      "outputs": [
        {
          "output_type": "execute_result",
          "data": {
            "text/plain": [
              "                     Air temperature(cel)  Pressure (atm)  Wind_speed (m/s)  \\\n",
              "DateTime                                                                      \n",
              "2007-01-01 00:00:00                10.926        0.979103             9.014   \n",
              "2007-01-01 01:00:00                 9.919        0.979566             9.428   \n",
              "2007-01-01 02:00:00                 8.567        0.979937             8.700   \n",
              "2007-01-01 03:00:00                 7.877        0.980053             8.481   \n",
              "2007-01-01 04:00:00                 7.259        0.979867             8.383   \n",
              "\n",
              "                     Wind_direction (deg)  Power_generated_by_system (kW)  \n",
              "DateTime                                                                   \n",
              "2007-01-01 00:00:00                 229.0                         33688.1  \n",
              "2007-01-01 01:00:00                 232.0                         37261.9  \n",
              "2007-01-01 02:00:00                 236.0                         30502.9  \n",
              "2007-01-01 03:00:00                 247.0                         28419.2  \n",
              "2007-01-01 04:00:00                 256.0                         27370.3  "
            ],
            "text/html": [
              "\n",
              "  <div id=\"df-9ba8ee54-815c-4221-913b-fb66e298335e\" class=\"colab-df-container\">\n",
              "    <div>\n",
              "<style scoped>\n",
              "    .dataframe tbody tr th:only-of-type {\n",
              "        vertical-align: middle;\n",
              "    }\n",
              "\n",
              "    .dataframe tbody tr th {\n",
              "        vertical-align: top;\n",
              "    }\n",
              "\n",
              "    .dataframe thead th {\n",
              "        text-align: right;\n",
              "    }\n",
              "</style>\n",
              "<table border=\"1\" class=\"dataframe\">\n",
              "  <thead>\n",
              "    <tr style=\"text-align: right;\">\n",
              "      <th></th>\n",
              "      <th>Air temperature(cel)</th>\n",
              "      <th>Pressure (atm)</th>\n",
              "      <th>Wind_speed (m/s)</th>\n",
              "      <th>Wind_direction (deg)</th>\n",
              "      <th>Power_generated_by_system (kW)</th>\n",
              "    </tr>\n",
              "    <tr>\n",
              "      <th>DateTime</th>\n",
              "      <th></th>\n",
              "      <th></th>\n",
              "      <th></th>\n",
              "      <th></th>\n",
              "      <th></th>\n",
              "    </tr>\n",
              "  </thead>\n",
              "  <tbody>\n",
              "    <tr>\n",
              "      <th>2007-01-01 00:00:00</th>\n",
              "      <td>10.926</td>\n",
              "      <td>0.979103</td>\n",
              "      <td>9.014</td>\n",
              "      <td>229.0</td>\n",
              "      <td>33688.1</td>\n",
              "    </tr>\n",
              "    <tr>\n",
              "      <th>2007-01-01 01:00:00</th>\n",
              "      <td>9.919</td>\n",
              "      <td>0.979566</td>\n",
              "      <td>9.428</td>\n",
              "      <td>232.0</td>\n",
              "      <td>37261.9</td>\n",
              "    </tr>\n",
              "    <tr>\n",
              "      <th>2007-01-01 02:00:00</th>\n",
              "      <td>8.567</td>\n",
              "      <td>0.979937</td>\n",
              "      <td>8.700</td>\n",
              "      <td>236.0</td>\n",
              "      <td>30502.9</td>\n",
              "    </tr>\n",
              "    <tr>\n",
              "      <th>2007-01-01 03:00:00</th>\n",
              "      <td>7.877</td>\n",
              "      <td>0.980053</td>\n",
              "      <td>8.481</td>\n",
              "      <td>247.0</td>\n",
              "      <td>28419.2</td>\n",
              "    </tr>\n",
              "    <tr>\n",
              "      <th>2007-01-01 04:00:00</th>\n",
              "      <td>7.259</td>\n",
              "      <td>0.979867</td>\n",
              "      <td>8.383</td>\n",
              "      <td>256.0</td>\n",
              "      <td>27370.3</td>\n",
              "    </tr>\n",
              "  </tbody>\n",
              "</table>\n",
              "</div>\n",
              "    <div class=\"colab-df-buttons\">\n",
              "\n",
              "  <div class=\"colab-df-container\">\n",
              "    <button class=\"colab-df-convert\" onclick=\"convertToInteractive('df-9ba8ee54-815c-4221-913b-fb66e298335e')\"\n",
              "            title=\"Convert this dataframe to an interactive table.\"\n",
              "            style=\"display:none;\">\n",
              "\n",
              "  <svg xmlns=\"http://www.w3.org/2000/svg\" height=\"24px\" viewBox=\"0 -960 960 960\">\n",
              "    <path d=\"M120-120v-720h720v720H120Zm60-500h600v-160H180v160Zm220 220h160v-160H400v160Zm0 220h160v-160H400v160ZM180-400h160v-160H180v160Zm440 0h160v-160H620v160ZM180-180h160v-160H180v160Zm440 0h160v-160H620v160Z\"/>\n",
              "  </svg>\n",
              "    </button>\n",
              "\n",
              "  <style>\n",
              "    .colab-df-container {\n",
              "      display:flex;\n",
              "      gap: 12px;\n",
              "    }\n",
              "\n",
              "    .colab-df-convert {\n",
              "      background-color: #E8F0FE;\n",
              "      border: none;\n",
              "      border-radius: 50%;\n",
              "      cursor: pointer;\n",
              "      display: none;\n",
              "      fill: #1967D2;\n",
              "      height: 32px;\n",
              "      padding: 0 0 0 0;\n",
              "      width: 32px;\n",
              "    }\n",
              "\n",
              "    .colab-df-convert:hover {\n",
              "      background-color: #E2EBFA;\n",
              "      box-shadow: 0px 1px 2px rgba(60, 64, 67, 0.3), 0px 1px 3px 1px rgba(60, 64, 67, 0.15);\n",
              "      fill: #174EA6;\n",
              "    }\n",
              "\n",
              "    .colab-df-buttons div {\n",
              "      margin-bottom: 4px;\n",
              "    }\n",
              "\n",
              "    [theme=dark] .colab-df-convert {\n",
              "      background-color: #3B4455;\n",
              "      fill: #D2E3FC;\n",
              "    }\n",
              "\n",
              "    [theme=dark] .colab-df-convert:hover {\n",
              "      background-color: #434B5C;\n",
              "      box-shadow: 0px 1px 3px 1px rgba(0, 0, 0, 0.15);\n",
              "      filter: drop-shadow(0px 1px 2px rgba(0, 0, 0, 0.3));\n",
              "      fill: #FFFFFF;\n",
              "    }\n",
              "  </style>\n",
              "\n",
              "    <script>\n",
              "      const buttonEl =\n",
              "        document.querySelector('#df-9ba8ee54-815c-4221-913b-fb66e298335e button.colab-df-convert');\n",
              "      buttonEl.style.display =\n",
              "        google.colab.kernel.accessAllowed ? 'block' : 'none';\n",
              "\n",
              "      async function convertToInteractive(key) {\n",
              "        const element = document.querySelector('#df-9ba8ee54-815c-4221-913b-fb66e298335e');\n",
              "        const dataTable =\n",
              "          await google.colab.kernel.invokeFunction('convertToInteractive',\n",
              "                                                    [key], {});\n",
              "        if (!dataTable) return;\n",
              "\n",
              "        const docLinkHtml = 'Like what you see? Visit the ' +\n",
              "          '<a target=\"_blank\" href=https://colab.research.google.com/notebooks/data_table.ipynb>data table notebook</a>'\n",
              "          + ' to learn more about interactive tables.';\n",
              "        element.innerHTML = '';\n",
              "        dataTable['output_type'] = 'display_data';\n",
              "        await google.colab.output.renderOutput(dataTable, element);\n",
              "        const docLink = document.createElement('div');\n",
              "        docLink.innerHTML = docLinkHtml;\n",
              "        element.appendChild(docLink);\n",
              "      }\n",
              "    </script>\n",
              "  </div>\n",
              "\n",
              "\n",
              "<div id=\"df-a45a2bb6-84d7-4ed5-9c93-2d53daa3f553\">\n",
              "  <button class=\"colab-df-quickchart\" onclick=\"quickchart('df-a45a2bb6-84d7-4ed5-9c93-2d53daa3f553')\"\n",
              "            title=\"Suggest charts\"\n",
              "            style=\"display:none;\">\n",
              "\n",
              "<svg xmlns=\"http://www.w3.org/2000/svg\" height=\"24px\"viewBox=\"0 0 24 24\"\n",
              "     width=\"24px\">\n",
              "    <g>\n",
              "        <path d=\"M19 3H5c-1.1 0-2 .9-2 2v14c0 1.1.9 2 2 2h14c1.1 0 2-.9 2-2V5c0-1.1-.9-2-2-2zM9 17H7v-7h2v7zm4 0h-2V7h2v10zm4 0h-2v-4h2v4z\"/>\n",
              "    </g>\n",
              "</svg>\n",
              "  </button>\n",
              "\n",
              "<style>\n",
              "  .colab-df-quickchart {\n",
              "      --bg-color: #E8F0FE;\n",
              "      --fill-color: #1967D2;\n",
              "      --hover-bg-color: #E2EBFA;\n",
              "      --hover-fill-color: #174EA6;\n",
              "      --disabled-fill-color: #AAA;\n",
              "      --disabled-bg-color: #DDD;\n",
              "  }\n",
              "\n",
              "  [theme=dark] .colab-df-quickchart {\n",
              "      --bg-color: #3B4455;\n",
              "      --fill-color: #D2E3FC;\n",
              "      --hover-bg-color: #434B5C;\n",
              "      --hover-fill-color: #FFFFFF;\n",
              "      --disabled-bg-color: #3B4455;\n",
              "      --disabled-fill-color: #666;\n",
              "  }\n",
              "\n",
              "  .colab-df-quickchart {\n",
              "    background-color: var(--bg-color);\n",
              "    border: none;\n",
              "    border-radius: 50%;\n",
              "    cursor: pointer;\n",
              "    display: none;\n",
              "    fill: var(--fill-color);\n",
              "    height: 32px;\n",
              "    padding: 0;\n",
              "    width: 32px;\n",
              "  }\n",
              "\n",
              "  .colab-df-quickchart:hover {\n",
              "    background-color: var(--hover-bg-color);\n",
              "    box-shadow: 0 1px 2px rgba(60, 64, 67, 0.3), 0 1px 3px 1px rgba(60, 64, 67, 0.15);\n",
              "    fill: var(--button-hover-fill-color);\n",
              "  }\n",
              "\n",
              "  .colab-df-quickchart-complete:disabled,\n",
              "  .colab-df-quickchart-complete:disabled:hover {\n",
              "    background-color: var(--disabled-bg-color);\n",
              "    fill: var(--disabled-fill-color);\n",
              "    box-shadow: none;\n",
              "  }\n",
              "\n",
              "  .colab-df-spinner {\n",
              "    border: 2px solid var(--fill-color);\n",
              "    border-color: transparent;\n",
              "    border-bottom-color: var(--fill-color);\n",
              "    animation:\n",
              "      spin 1s steps(1) infinite;\n",
              "  }\n",
              "\n",
              "  @keyframes spin {\n",
              "    0% {\n",
              "      border-color: transparent;\n",
              "      border-bottom-color: var(--fill-color);\n",
              "      border-left-color: var(--fill-color);\n",
              "    }\n",
              "    20% {\n",
              "      border-color: transparent;\n",
              "      border-left-color: var(--fill-color);\n",
              "      border-top-color: var(--fill-color);\n",
              "    }\n",
              "    30% {\n",
              "      border-color: transparent;\n",
              "      border-left-color: var(--fill-color);\n",
              "      border-top-color: var(--fill-color);\n",
              "      border-right-color: var(--fill-color);\n",
              "    }\n",
              "    40% {\n",
              "      border-color: transparent;\n",
              "      border-right-color: var(--fill-color);\n",
              "      border-top-color: var(--fill-color);\n",
              "    }\n",
              "    60% {\n",
              "      border-color: transparent;\n",
              "      border-right-color: var(--fill-color);\n",
              "    }\n",
              "    80% {\n",
              "      border-color: transparent;\n",
              "      border-right-color: var(--fill-color);\n",
              "      border-bottom-color: var(--fill-color);\n",
              "    }\n",
              "    90% {\n",
              "      border-color: transparent;\n",
              "      border-bottom-color: var(--fill-color);\n",
              "    }\n",
              "  }\n",
              "</style>\n",
              "\n",
              "  <script>\n",
              "    async function quickchart(key) {\n",
              "      const quickchartButtonEl =\n",
              "        document.querySelector('#' + key + ' button');\n",
              "      quickchartButtonEl.disabled = true;  // To prevent multiple clicks.\n",
              "      quickchartButtonEl.classList.add('colab-df-spinner');\n",
              "      try {\n",
              "        const charts = await google.colab.kernel.invokeFunction(\n",
              "            'suggestCharts', [key], {});\n",
              "      } catch (error) {\n",
              "        console.error('Error during call to suggestCharts:', error);\n",
              "      }\n",
              "      quickchartButtonEl.classList.remove('colab-df-spinner');\n",
              "      quickchartButtonEl.classList.add('colab-df-quickchart-complete');\n",
              "    }\n",
              "    (() => {\n",
              "      let quickchartButtonEl =\n",
              "        document.querySelector('#df-a45a2bb6-84d7-4ed5-9c93-2d53daa3f553 button');\n",
              "      quickchartButtonEl.style.display =\n",
              "        google.colab.kernel.accessAllowed ? 'block' : 'none';\n",
              "    })();\n",
              "  </script>\n",
              "</div>\n",
              "\n",
              "    </div>\n",
              "  </div>\n"
            ],
            "application/vnd.google.colaboratory.intrinsic+json": {
              "type": "dataframe",
              "variable_name": "series",
              "summary": "{\n  \"name\": \"series\",\n  \"rows\": 52560,\n  \"fields\": [\n    {\n      \"column\": \"DateTime\",\n      \"properties\": {\n        \"dtype\": \"date\",\n        \"min\": \"2007-01-01 00:00:00\",\n        \"max\": \"2012-12-31 23:00:00\",\n        \"num_unique_values\": 52560,\n        \"samples\": [\n          \"2012-01-25 04:00:00\",\n          \"2009-04-22 08:00:00\",\n          \"2007-06-19 14:00:00\"\n        ],\n        \"semantic_type\": \"\",\n        \"description\": \"\"\n      }\n    },\n    {\n      \"column\": \"Air temperature(cel)\",\n      \"properties\": {\n        \"dtype\": \"number\",\n        \"std\": 8.569161307079048,\n        \"min\": 0.001,\n        \"max\": 38.805,\n        \"num_unique_values\": 22980,\n        \"samples\": [\n          25.694,\n          30.511,\n          14.44\n        ],\n        \"semantic_type\": \"\",\n        \"description\": \"\"\n      }\n    },\n    {\n      \"column\": \"Pressure (atm)\",\n      \"properties\": {\n        \"dtype\": \"number\",\n        \"std\": 0.0053926479209179,\n        \"min\": 0.958598,\n        \"max\": 1.00558,\n        \"num_unique_values\": 17987,\n        \"samples\": [\n          0.980719,\n          0.980419,\n          0.987696\n        ],\n        \"semantic_type\": \"\",\n        \"description\": \"\"\n      }\n    },\n    {\n      \"column\": \"Wind_speed (m/s)\",\n      \"properties\": {\n        \"dtype\": \"number\",\n        \"std\": 3.009099023978573,\n        \"min\": 0.14,\n        \"max\": 19.725,\n        \"num_unique_values\": 11765,\n        \"samples\": [\n          6.887,\n          1.558,\n          8.767\n        ],\n        \"semantic_type\": \"\",\n        \"description\": \"\"\n      }\n    },\n    {\n      \"column\": \"Wind_direction (deg)\",\n      \"properties\": {\n        \"dtype\": \"number\",\n        \"std\": 98.20754368042054,\n        \"min\": 1.0,\n        \"max\": 360.0,\n        \"num_unique_values\": 360,\n        \"samples\": [\n          117.0,\n          24.0,\n          39.0\n        ],\n        \"semantic_type\": \"\",\n        \"description\": \"\"\n      }\n    },\n    {\n      \"column\": \"Power_generated_by_system (kW)\",\n      \"properties\": {\n        \"dtype\": \"number\",\n        \"std\": 17300.146081630992,\n        \"min\": 85.1823,\n        \"max\": 61245.4,\n        \"num_unique_values\": 31894,\n        \"samples\": [\n          12610.7,\n          29664.2,\n          40815.8\n        ],\n        \"semantic_type\": \"\",\n        \"description\": \"\"\n      }\n    }\n  ]\n}"
            }
          },
          "metadata": {},
          "execution_count": 382
        }
      ]
    },
    {
      "cell_type": "code",
      "source": [
        "series = series[:25000]"
      ],
      "metadata": {
        "id": "Z2w1jRcjgksj"
      },
      "execution_count": null,
      "outputs": []
    },
    {
      "cell_type": "code",
      "source": [
        "# Cleaning Data\n",
        "series['Power_generated_by_system (kW)'].replace(0, np.nan, inplace=True)\n",
        "series['Power_generated_by_system (kW)'].fillna(method='ffill', inplace=True)\n",
        "print(series)"
      ],
      "metadata": {
        "colab": {
          "base_uri": "https://localhost:8080/"
        },
        "id": "3lwzl2rHoLCG",
        "outputId": "b032f5ab-8cf4-4099-9e02-106f485b0c07"
      },
      "execution_count": null,
      "outputs": [
        {
          "output_type": "stream",
          "name": "stdout",
          "text": [
            "                     Air temperature(cel)  Pressure (atm)  Wind_speed (m/s)  \\\n",
            "DateTime                                                                      \n",
            "2007-01-01 00:00:00                10.926        0.979103             9.014   \n",
            "2007-01-01 01:00:00                 9.919        0.979566             9.428   \n",
            "2007-01-01 02:00:00                 8.567        0.979937             8.700   \n",
            "2007-01-01 03:00:00                 7.877        0.980053             8.481   \n",
            "2007-01-01 04:00:00                 7.259        0.979867             8.383   \n",
            "...                                   ...             ...               ...   \n",
            "2009-11-08 11:00:00                 5.840        0.988126             3.554   \n",
            "2009-11-08 12:00:00                 5.549        0.988289             3.596   \n",
            "2009-11-08 13:00:00                 8.072        0.988518             3.962   \n",
            "2009-11-08 14:00:00                11.309        0.988750             3.953   \n",
            "2009-11-08 15:00:00                14.356        0.988618             3.026   \n",
            "\n",
            "                     Wind_direction (deg)  Power_generated_by_system (kW)  \n",
            "DateTime                                                                   \n",
            "2007-01-01 00:00:00                 229.0                       33688.100  \n",
            "2007-01-01 01:00:00                 232.0                       37261.900  \n",
            "2007-01-01 02:00:00                 236.0                       30502.900  \n",
            "2007-01-01 03:00:00                 247.0                       28419.200  \n",
            "2007-01-01 04:00:00                 256.0                       27370.300  \n",
            "...                                   ...                             ...  \n",
            "2009-11-08 11:00:00                 163.0                         620.573  \n",
            "2009-11-08 12:00:00                 150.0                         620.573  \n",
            "2009-11-08 13:00:00                 139.0                        1328.760  \n",
            "2009-11-08 14:00:00                 134.0                        1293.820  \n",
            "2009-11-08 15:00:00                 119.0                        1293.820  \n",
            "\n",
            "[25000 rows x 5 columns]\n"
          ]
        }
      ]
    },
    {
      "cell_type": "code",
      "source": [
        "# initialize variables\n",
        "batch_size_exp = 1\n",
        "epoch_exp = 2\n",
        "neurons_exp = 5\n",
        "predict_values_exp = 48\n",
        "lag_exp= 48"
      ],
      "metadata": {
        "id": "yy5NnZgfpco9"
      },
      "execution_count": null,
      "outputs": []
    },
    {
      "cell_type": "code",
      "source": [
        "# prompt: set above hypertunes which suitable for 10000 rows.\n",
        "#[batch_size_exp = 1\n",
        "# epoch_exp = 7\n",
        "# neurons_exp = 10\n",
        "# predict_values_exp = 48\n",
        "# lag_exp=24]\n",
        "\n",
        "batch_size_exp = 200\n",
        "epoch_exp = 30\n",
        "neurons_exp = 256\n",
        "predict_values_exp = 48\n",
        "lag_exp=24\n"
      ],
      "metadata": {
        "id": "qaB7k9Tzgusu"
      },
      "execution_count": null,
      "outputs": []
    },
    {
      "cell_type": "code",
      "source": [
        "# invert differenced value\n",
        "def inverse_difference(history, yhat, interval=1):\n",
        "    return yhat + history[-interval]"
      ],
      "metadata": {
        "id": "sbwSgnfhphJz"
      },
      "execution_count": null,
      "outputs": []
    },
    {
      "cell_type": "code",
      "source": [
        "# scale train and test data to [-1, 1]\n",
        "from sklearn.preprocessing import MinMaxScaler\n",
        "def scale(train, test):\n",
        "    # fit scaler\n",
        "    scaler = MinMaxScaler(feature_range=(-1, 1))\n",
        "    scaler = scaler.fit(train)\n",
        "    # transform train\n",
        "    train = train.reshape(train.shape[0], train.shape[1])\n",
        "    train_scaled = scaler.transform(train)\n",
        "    # transform test\n",
        "    test = test.reshape(test.shape[0], test.shape[1])\n",
        "    test_scaled = scaler.transform(test)\n",
        "    return scaler, train_scaled, test_scaled"
      ],
      "metadata": {
        "id": "Xgfg8jmcpjKZ"
      },
      "execution_count": null,
      "outputs": []
    },
    {
      "cell_type": "code",
      "source": [
        "# inverse scaling for a forecasted value\n",
        "def invert_scale(scaler, X, value):\n",
        "    new_row = [x for x in X] + [value]\n",
        "    array = np.array(new_row)\n",
        "    array = array.reshape(1, len(array))\n",
        "    inverted = scaler.inverse_transform(array)\n",
        "    return inverted[0, -1]"
      ],
      "metadata": {
        "id": "xIHTQ9hUplm4"
      },
      "execution_count": null,
      "outputs": []
    },
    {
      "cell_type": "code",
      "source": [
        "# fit an LSTM network to training data\n",
        "from keras.models import Sequential\n",
        "from keras.layers import Dense\n",
        "from keras.layers import LSTM\n",
        "def fit_lstm(train, batch_size, nb_epoch, neurons):\n",
        "    X, y = train[:, 0:-1], train[:, -1]\n",
        "    X = X.reshape(X.shape[0], 1, X.shape[1])\n",
        "    model = Sequential()\n",
        "    model.add(LSTM(neurons, batch_input_shape=(batch_size, X.shape[1], X.shape[2]), stateful=True))\n",
        "    model.add(Dense(1))\n",
        "    model.compile(loss='mean_squared_error', optimizer='adam')\n",
        "    for i in range(nb_epoch):\n",
        "        model.fit(X, y, epochs=1, batch_size=batch_size, verbose=1, shuffle=False)\n",
        "        model.reset_states()\n",
        "    return model"
      ],
      "metadata": {
        "id": "-mazy7wkpwBj"
      },
      "execution_count": null,
      "outputs": []
    },
    {
      "cell_type": "code",
      "source": [
        "# make a one-step forecast\n",
        "def forecast_lstm(model, batch_size, X):\n",
        "    X = X.reshape(1, 1, len(X))\n",
        "    #print(X)\n",
        "    yhat = model.predict(X, batch_size=1)\n",
        "    return yhat[0,0]"
      ],
      "metadata": {
        "id": "LPijoT_qp-4Z"
      },
      "execution_count": null,
      "outputs": []
    },
    {
      "cell_type": "code",
      "source": [
        "print(series.columns)"
      ],
      "metadata": {
        "colab": {
          "base_uri": "https://localhost:8080/"
        },
        "id": "u3tAj02IwsfJ",
        "outputId": "1c2291d1-bed7-4524-a083-dc9b41141e92"
      },
      "execution_count": null,
      "outputs": [
        {
          "output_type": "stream",
          "name": "stdout",
          "text": [
            "Index(['Air temperature(cel)', 'Pressure (atm)', 'Wind_speed (m/s)',\n",
            "       'Wind_direction (deg)', 'Power_generated_by_system (kW)'],\n",
            "      dtype='object')\n"
          ]
        }
      ]
    },
    {
      "cell_type": "code",
      "source": [
        "# Drop all the features as we will not be having any in production\n",
        "del series['Air temperature(cel)']\n",
        "del series['Pressure (atm)']\n",
        "del series['Wind_speed (m/s)']\n",
        "del series['Wind_direction (deg)']"
      ],
      "metadata": {
        "id": "sp-pICcGqBLj"
      },
      "execution_count": null,
      "outputs": []
    },
    {
      "cell_type": "code",
      "source": [
        "for i in range(0,10):\n",
        "  series = series[:-1]\n",
        "series.tail()"
      ],
      "metadata": {
        "colab": {
          "base_uri": "https://localhost:8080/",
          "height": 238
        },
        "id": "nhozu6jIqDzS",
        "outputId": "a7f42e7f-9fc7-43cd-9d54-9a64b7b39bb3"
      },
      "execution_count": null,
      "outputs": [
        {
          "output_type": "execute_result",
          "data": {
            "text/plain": [
              "                     Power_generated_by_system (kW)\n",
              "DateTime                                           \n",
              "2009-11-08 01:00:00                         21585.2\n",
              "2009-11-08 02:00:00                         23750.1\n",
              "2009-11-08 03:00:00                         20564.9\n",
              "2009-11-08 04:00:00                         18227.9\n",
              "2009-11-08 05:00:00                         13773.5"
            ],
            "text/html": [
              "\n",
              "  <div id=\"df-7533078b-d367-4b4c-b0ca-a8beb2a7651f\" class=\"colab-df-container\">\n",
              "    <div>\n",
              "<style scoped>\n",
              "    .dataframe tbody tr th:only-of-type {\n",
              "        vertical-align: middle;\n",
              "    }\n",
              "\n",
              "    .dataframe tbody tr th {\n",
              "        vertical-align: top;\n",
              "    }\n",
              "\n",
              "    .dataframe thead th {\n",
              "        text-align: right;\n",
              "    }\n",
              "</style>\n",
              "<table border=\"1\" class=\"dataframe\">\n",
              "  <thead>\n",
              "    <tr style=\"text-align: right;\">\n",
              "      <th></th>\n",
              "      <th>Power_generated_by_system (kW)</th>\n",
              "    </tr>\n",
              "    <tr>\n",
              "      <th>DateTime</th>\n",
              "      <th></th>\n",
              "    </tr>\n",
              "  </thead>\n",
              "  <tbody>\n",
              "    <tr>\n",
              "      <th>2009-11-08 01:00:00</th>\n",
              "      <td>21585.2</td>\n",
              "    </tr>\n",
              "    <tr>\n",
              "      <th>2009-11-08 02:00:00</th>\n",
              "      <td>23750.1</td>\n",
              "    </tr>\n",
              "    <tr>\n",
              "      <th>2009-11-08 03:00:00</th>\n",
              "      <td>20564.9</td>\n",
              "    </tr>\n",
              "    <tr>\n",
              "      <th>2009-11-08 04:00:00</th>\n",
              "      <td>18227.9</td>\n",
              "    </tr>\n",
              "    <tr>\n",
              "      <th>2009-11-08 05:00:00</th>\n",
              "      <td>13773.5</td>\n",
              "    </tr>\n",
              "  </tbody>\n",
              "</table>\n",
              "</div>\n",
              "    <div class=\"colab-df-buttons\">\n",
              "\n",
              "  <div class=\"colab-df-container\">\n",
              "    <button class=\"colab-df-convert\" onclick=\"convertToInteractive('df-7533078b-d367-4b4c-b0ca-a8beb2a7651f')\"\n",
              "            title=\"Convert this dataframe to an interactive table.\"\n",
              "            style=\"display:none;\">\n",
              "\n",
              "  <svg xmlns=\"http://www.w3.org/2000/svg\" height=\"24px\" viewBox=\"0 -960 960 960\">\n",
              "    <path d=\"M120-120v-720h720v720H120Zm60-500h600v-160H180v160Zm220 220h160v-160H400v160Zm0 220h160v-160H400v160ZM180-400h160v-160H180v160Zm440 0h160v-160H620v160ZM180-180h160v-160H180v160Zm440 0h160v-160H620v160Z\"/>\n",
              "  </svg>\n",
              "    </button>\n",
              "\n",
              "  <style>\n",
              "    .colab-df-container {\n",
              "      display:flex;\n",
              "      gap: 12px;\n",
              "    }\n",
              "\n",
              "    .colab-df-convert {\n",
              "      background-color: #E8F0FE;\n",
              "      border: none;\n",
              "      border-radius: 50%;\n",
              "      cursor: pointer;\n",
              "      display: none;\n",
              "      fill: #1967D2;\n",
              "      height: 32px;\n",
              "      padding: 0 0 0 0;\n",
              "      width: 32px;\n",
              "    }\n",
              "\n",
              "    .colab-df-convert:hover {\n",
              "      background-color: #E2EBFA;\n",
              "      box-shadow: 0px 1px 2px rgba(60, 64, 67, 0.3), 0px 1px 3px 1px rgba(60, 64, 67, 0.15);\n",
              "      fill: #174EA6;\n",
              "    }\n",
              "\n",
              "    .colab-df-buttons div {\n",
              "      margin-bottom: 4px;\n",
              "    }\n",
              "\n",
              "    [theme=dark] .colab-df-convert {\n",
              "      background-color: #3B4455;\n",
              "      fill: #D2E3FC;\n",
              "    }\n",
              "\n",
              "    [theme=dark] .colab-df-convert:hover {\n",
              "      background-color: #434B5C;\n",
              "      box-shadow: 0px 1px 3px 1px rgba(0, 0, 0, 0.15);\n",
              "      filter: drop-shadow(0px 1px 2px rgba(0, 0, 0, 0.3));\n",
              "      fill: #FFFFFF;\n",
              "    }\n",
              "  </style>\n",
              "\n",
              "    <script>\n",
              "      const buttonEl =\n",
              "        document.querySelector('#df-7533078b-d367-4b4c-b0ca-a8beb2a7651f button.colab-df-convert');\n",
              "      buttonEl.style.display =\n",
              "        google.colab.kernel.accessAllowed ? 'block' : 'none';\n",
              "\n",
              "      async function convertToInteractive(key) {\n",
              "        const element = document.querySelector('#df-7533078b-d367-4b4c-b0ca-a8beb2a7651f');\n",
              "        const dataTable =\n",
              "          await google.colab.kernel.invokeFunction('convertToInteractive',\n",
              "                                                    [key], {});\n",
              "        if (!dataTable) return;\n",
              "\n",
              "        const docLinkHtml = 'Like what you see? Visit the ' +\n",
              "          '<a target=\"_blank\" href=https://colab.research.google.com/notebooks/data_table.ipynb>data table notebook</a>'\n",
              "          + ' to learn more about interactive tables.';\n",
              "        element.innerHTML = '';\n",
              "        dataTable['output_type'] = 'display_data';\n",
              "        await google.colab.output.renderOutput(dataTable, element);\n",
              "        const docLink = document.createElement('div');\n",
              "        docLink.innerHTML = docLinkHtml;\n",
              "        element.appendChild(docLink);\n",
              "      }\n",
              "    </script>\n",
              "  </div>\n",
              "\n",
              "\n",
              "<div id=\"df-d432c0ed-03aa-4051-b2f0-f2c16a4bb4d3\">\n",
              "  <button class=\"colab-df-quickchart\" onclick=\"quickchart('df-d432c0ed-03aa-4051-b2f0-f2c16a4bb4d3')\"\n",
              "            title=\"Suggest charts\"\n",
              "            style=\"display:none;\">\n",
              "\n",
              "<svg xmlns=\"http://www.w3.org/2000/svg\" height=\"24px\"viewBox=\"0 0 24 24\"\n",
              "     width=\"24px\">\n",
              "    <g>\n",
              "        <path d=\"M19 3H5c-1.1 0-2 .9-2 2v14c0 1.1.9 2 2 2h14c1.1 0 2-.9 2-2V5c0-1.1-.9-2-2-2zM9 17H7v-7h2v7zm4 0h-2V7h2v10zm4 0h-2v-4h2v4z\"/>\n",
              "    </g>\n",
              "</svg>\n",
              "  </button>\n",
              "\n",
              "<style>\n",
              "  .colab-df-quickchart {\n",
              "      --bg-color: #E8F0FE;\n",
              "      --fill-color: #1967D2;\n",
              "      --hover-bg-color: #E2EBFA;\n",
              "      --hover-fill-color: #174EA6;\n",
              "      --disabled-fill-color: #AAA;\n",
              "      --disabled-bg-color: #DDD;\n",
              "  }\n",
              "\n",
              "  [theme=dark] .colab-df-quickchart {\n",
              "      --bg-color: #3B4455;\n",
              "      --fill-color: #D2E3FC;\n",
              "      --hover-bg-color: #434B5C;\n",
              "      --hover-fill-color: #FFFFFF;\n",
              "      --disabled-bg-color: #3B4455;\n",
              "      --disabled-fill-color: #666;\n",
              "  }\n",
              "\n",
              "  .colab-df-quickchart {\n",
              "    background-color: var(--bg-color);\n",
              "    border: none;\n",
              "    border-radius: 50%;\n",
              "    cursor: pointer;\n",
              "    display: none;\n",
              "    fill: var(--fill-color);\n",
              "    height: 32px;\n",
              "    padding: 0;\n",
              "    width: 32px;\n",
              "  }\n",
              "\n",
              "  .colab-df-quickchart:hover {\n",
              "    background-color: var(--hover-bg-color);\n",
              "    box-shadow: 0 1px 2px rgba(60, 64, 67, 0.3), 0 1px 3px 1px rgba(60, 64, 67, 0.15);\n",
              "    fill: var(--button-hover-fill-color);\n",
              "  }\n",
              "\n",
              "  .colab-df-quickchart-complete:disabled,\n",
              "  .colab-df-quickchart-complete:disabled:hover {\n",
              "    background-color: var(--disabled-bg-color);\n",
              "    fill: var(--disabled-fill-color);\n",
              "    box-shadow: none;\n",
              "  }\n",
              "\n",
              "  .colab-df-spinner {\n",
              "    border: 2px solid var(--fill-color);\n",
              "    border-color: transparent;\n",
              "    border-bottom-color: var(--fill-color);\n",
              "    animation:\n",
              "      spin 1s steps(1) infinite;\n",
              "  }\n",
              "\n",
              "  @keyframes spin {\n",
              "    0% {\n",
              "      border-color: transparent;\n",
              "      border-bottom-color: var(--fill-color);\n",
              "      border-left-color: var(--fill-color);\n",
              "    }\n",
              "    20% {\n",
              "      border-color: transparent;\n",
              "      border-left-color: var(--fill-color);\n",
              "      border-top-color: var(--fill-color);\n",
              "    }\n",
              "    30% {\n",
              "      border-color: transparent;\n",
              "      border-left-color: var(--fill-color);\n",
              "      border-top-color: var(--fill-color);\n",
              "      border-right-color: var(--fill-color);\n",
              "    }\n",
              "    40% {\n",
              "      border-color: transparent;\n",
              "      border-right-color: var(--fill-color);\n",
              "      border-top-color: var(--fill-color);\n",
              "    }\n",
              "    60% {\n",
              "      border-color: transparent;\n",
              "      border-right-color: var(--fill-color);\n",
              "    }\n",
              "    80% {\n",
              "      border-color: transparent;\n",
              "      border-right-color: var(--fill-color);\n",
              "      border-bottom-color: var(--fill-color);\n",
              "    }\n",
              "    90% {\n",
              "      border-color: transparent;\n",
              "      border-bottom-color: var(--fill-color);\n",
              "    }\n",
              "  }\n",
              "</style>\n",
              "\n",
              "  <script>\n",
              "    async function quickchart(key) {\n",
              "      const quickchartButtonEl =\n",
              "        document.querySelector('#' + key + ' button');\n",
              "      quickchartButtonEl.disabled = true;  // To prevent multiple clicks.\n",
              "      quickchartButtonEl.classList.add('colab-df-spinner');\n",
              "      try {\n",
              "        const charts = await google.colab.kernel.invokeFunction(\n",
              "            'suggestCharts', [key], {});\n",
              "      } catch (error) {\n",
              "        console.error('Error during call to suggestCharts:', error);\n",
              "      }\n",
              "      quickchartButtonEl.classList.remove('colab-df-spinner');\n",
              "      quickchartButtonEl.classList.add('colab-df-quickchart-complete');\n",
              "    }\n",
              "    (() => {\n",
              "      let quickchartButtonEl =\n",
              "        document.querySelector('#df-d432c0ed-03aa-4051-b2f0-f2c16a4bb4d3 button');\n",
              "      quickchartButtonEl.style.display =\n",
              "        google.colab.kernel.accessAllowed ? 'block' : 'none';\n",
              "    })();\n",
              "  </script>\n",
              "</div>\n",
              "\n",
              "    </div>\n",
              "  </div>\n"
            ],
            "application/vnd.google.colaboratory.intrinsic+json": {
              "type": "dataframe",
              "summary": "{\n  \"name\": \"series\",\n  \"rows\": 5,\n  \"fields\": [\n    {\n      \"column\": \"DateTime\",\n      \"properties\": {\n        \"dtype\": \"date\",\n        \"min\": \"2009-11-08 01:00:00\",\n        \"max\": \"2009-11-08 05:00:00\",\n        \"num_unique_values\": 5,\n        \"samples\": [\n          \"2009-11-08 02:00:00\",\n          \"2009-11-08 05:00:00\",\n          \"2009-11-08 03:00:00\"\n        ],\n        \"semantic_type\": \"\",\n        \"description\": \"\"\n      }\n    },\n    {\n      \"column\": \"Power_generated_by_system (kW)\",\n      \"properties\": {\n        \"dtype\": \"number\",\n        \"std\": 3805.3976535967954,\n        \"min\": 13773.5,\n        \"max\": 23750.1,\n        \"num_unique_values\": 5,\n        \"samples\": [\n          23750.1,\n          13773.5,\n          20564.9\n        ],\n        \"semantic_type\": \"\",\n        \"description\": \"\"\n      }\n    }\n  ]\n}"
            }
          },
          "metadata": {},
          "execution_count": 392
        }
      ]
    },
    {
      "cell_type": "code",
      "source": [
        "# create a differenced series\n",
        "from pandas import Series\n",
        "def difference(dataset, interval=1):\n",
        "    diff = list()\n",
        "    for i in range(interval, len(dataset)):\n",
        "        value = dataset[i] - dataset[i - interval]\n",
        "        diff.append(value)\n",
        "    return Series(diff)"
      ],
      "metadata": {
        "id": "3EkFia3HqGnA"
      },
      "execution_count": null,
      "outputs": []
    },
    {
      "cell_type": "code",
      "source": [
        "# transform data to be stationary\n",
        "raw_values = series.values\n",
        "diff_values = difference(raw_values, 1)"
      ],
      "metadata": {
        "id": "i_es19I7quI-"
      },
      "execution_count": null,
      "outputs": []
    },
    {
      "cell_type": "code",
      "source": [
        "# Print the raw and differenced values\n",
        "print(\"Raw values:\", raw_values)\n",
        "print(\"Differenced values:\", diff_values)"
      ],
      "metadata": {
        "colab": {
          "base_uri": "https://localhost:8080/"
        },
        "id": "b-QJewm4qv77",
        "outputId": "16967b54-6050-48f5-f812-ac59a195107f"
      },
      "execution_count": null,
      "outputs": [
        {
          "output_type": "stream",
          "name": "stdout",
          "text": [
            "Raw values: [[33688.1]\n",
            " [37261.9]\n",
            " [30502.9]\n",
            " ...\n",
            " [20564.9]\n",
            " [18227.9]\n",
            " [13773.5]]\n",
            "Differenced values: 0          [3573.800000000003]\n",
            "1                    [-6759.0]\n",
            "2        [-2083.7000000000007]\n",
            "3        [-1048.9000000000015]\n",
            "4        [-1564.3999999999978]\n",
            "                 ...          \n",
            "24984     [1294.2999999999993]\n",
            "24985      [2164.899999999998]\n",
            "24986     [-3185.199999999997]\n",
            "24987                [-2337.0]\n",
            "24988    [-4454.4000000000015]\n",
            "Length: 24989, dtype: object\n"
          ]
        }
      ]
    },
    {
      "cell_type": "code",
      "source": [
        "# frame a sequence as a supervised learning problem\n",
        "from pandas import DataFrame\n",
        "from pandas import concat\n",
        "def timeseries_to_supervised(data, lag=1):\n",
        "    df = DataFrame(data)\n",
        "    columns = [df.shift(i) for i in range(1, lag+1)]\n",
        "    columns.append(df)\n",
        "    df = concat(columns, axis=1)\n",
        "    df.fillna(0, inplace=True)\n",
        "    return df"
      ],
      "metadata": {
        "id": "O53PhRlBqyu4"
      },
      "execution_count": null,
      "outputs": []
    },
    {
      "cell_type": "code",
      "source": [
        "# transform data to be supervised learning\n",
        "supervised = timeseries_to_supervised(diff_values, lag_exp)\n",
        "supervised_values = supervised.values"
      ],
      "metadata": {
        "id": "RPI0oa1Dq1JJ"
      },
      "execution_count": null,
      "outputs": []
    },
    {
      "cell_type": "code",
      "source": [
        "# Print the supervised values\n",
        "print(\"Supervised values:\", supervised_values)"
      ],
      "metadata": {
        "id": "4ZksfjxKq4e4",
        "colab": {
          "base_uri": "https://localhost:8080/"
        },
        "outputId": "f90ce598-29ff-4a0f-ab47-5ebb882dcc1a",
        "collapsed": true
      },
      "execution_count": null,
      "outputs": [
        {
          "output_type": "stream",
          "name": "stdout",
          "text": [
            "Supervised values: [[0 0 0 ... 0 0\n",
            "  array([ 1.00000000e+00, -1.32132714e+00, -5.37000225e+00,  9.90000000e+01,\n",
            "          1.13411838e+03])                                                  ]\n",
            " [array([ 1.00000000e+00, -1.32132714e+00, -5.37000225e+00,  9.90000000e+01,\n",
            "          1.13411838e+03])\n",
            "  0 0 ... 0 0\n",
            "  array([-2.10000000e+01,  1.02481759e+00,  1.07193157e+01, -2.09000000e+02,\n",
            "         -2.25317666e+03])                                                  ]\n",
            " [array([-2.10000000e+01,  1.02481759e+00,  1.07193157e+01, -2.09000000e+02,\n",
            "         -2.25317666e+03])\n",
            "  array([ 1.00000000e+00, -1.32132714e+00, -5.37000225e+00,  9.90000000e+01,\n",
            "          1.13411838e+03])\n",
            "  0 ... 0 0\n",
            "  array([-4.00000000e+00, -1.02212126e+00, -1.17429522e+01,  5.70000000e+01,\n",
            "          2.93850291e+03])                                                  ]\n",
            " ...\n",
            " [array([ 1.20000000e+01, -3.74395465e-01,  8.74986262e+00, -1.05000000e+02,\n",
            "          3.16116342e+03])\n",
            "  array([ 9.00000000e+00,  4.24667753e-02, -1.37257072e+01,  1.97000000e+02,\n",
            "         -3.31024097e+03])\n",
            "  array([9.00000000e+00, 2.53769802e-01, 1.78701947e+01, 6.70000000e+01,\n",
            "         2.38506238e+03])\n",
            "  ...\n",
            "  array([ 3.00000000e+01, -2.41411209e-01,  1.62939369e+01, -2.34000000e+02,\n",
            "          3.06196223e+03])\n",
            "  array([-3.50000000e+01, -1.27831618e-02, -1.18066357e+01,  1.40000000e+01,\n",
            "          8.60715519e+02])\n",
            "  array([ 1.00000000e+00,  8.26608853e-01, -2.31029298e+00,  8.00000000e+00,\n",
            "         -3.47167228e+03])                                                  ]\n",
            " [array([ 1.00000000e+00,  8.26608853e-01, -2.31029298e+00,  8.00000000e+00,\n",
            "         -3.47167228e+03])\n",
            "  array([ 1.20000000e+01, -3.74395465e-01,  8.74986262e+00, -1.05000000e+02,\n",
            "          3.16116342e+03])\n",
            "  array([ 9.00000000e+00,  4.24667753e-02, -1.37257072e+01,  1.97000000e+02,\n",
            "         -3.31024097e+03])\n",
            "  ...\n",
            "  array([-3.60000000e+01,  8.62825606e-03, -3.70524648e+00,  2.96000000e+02,\n",
            "         -1.70163020e+03])\n",
            "  array([ 3.00000000e+01, -2.41411209e-01,  1.62939369e+01, -2.34000000e+02,\n",
            "          3.06196223e+03])\n",
            "  array([  -8.        ,    0.29101365,   -2.36718439,   14.        ,\n",
            "         -278.79551092])                                            ]\n",
            " [array([  -8.        ,    0.29101365,   -2.36718439,   14.        ,\n",
            "         -278.79551092])\n",
            "  array([ 1.00000000e+00,  8.26608853e-01, -2.31029298e+00,  8.00000000e+00,\n",
            "         -3.47167228e+03])\n",
            "  array([ 1.20000000e+01, -3.74395465e-01,  8.74986262e+00, -1.05000000e+02,\n",
            "          3.16116342e+03])\n",
            "  ...\n",
            "  array([ 1.40000000e+01,  2.42246015e-01,  9.38701946e+00,  3.70000000e+01,\n",
            "         -6.82859203e+02])\n",
            "  array([-3.60000000e+01,  8.62825606e-03, -3.70524648e+00,  2.96000000e+02,\n",
            "         -1.70163020e+03])\n",
            "  array([-3.30000000e+01,  1.27944457e-01,  6.01579081e-01, -2.04000000e+02,\n",
            "          4.42815453e+03])                                                  ]]\n"
          ]
        }
      ]
    },
    {
      "cell_type": "code",
      "source": [
        "# split data into train and test-sets\n",
        "train, test = supervised_values[0:-predict_values_exp], supervised_values[-predict_values_exp:]"
      ],
      "metadata": {
        "id": "WfzFrprUq6gI"
      },
      "execution_count": null,
      "outputs": []
    },
    {
      "cell_type": "code",
      "source": [
        "# transform the scale of the data\n",
        "scaler, train_scaled, test_scaled = scale(train, test)"
      ],
      "metadata": {
        "id": "cXAnVVnWq8qs"
      },
      "execution_count": null,
      "outputs": []
    },
    {
      "cell_type": "code",
      "source": [
        "import time\n",
        "\n",
        "# Start timer for training\n",
        "start_time_training = time.time()"
      ],
      "metadata": {
        "id": "rX9RtVZCgiZJ"
      },
      "execution_count": null,
      "outputs": []
    },
    {
      "cell_type": "code",
      "source": [
        "# fit the model\n",
        "lstm_model = fit_lstm(train_scaled, batch_size_exp, epoch_exp, neurons_exp)"
      ],
      "metadata": {
        "colab": {
          "base_uri": "https://localhost:8080/"
        },
        "id": "hbe3FuLmq_ob",
        "outputId": "31dc209d-aa5e-420e-fde0-b2b7a1fafbb8"
      },
      "execution_count": null,
      "outputs": [
        {
          "output_type": "stream",
          "name": "stdout",
          "text": [
            "24941/24941 [==============================] - 85s 3ms/step - loss: 0.0144\n",
            "24941/24941 [==============================] - 81s 3ms/step - loss: 0.0140\n"
          ]
        }
      ]
    },
    {
      "cell_type": "code",
      "source": [
        "# End timer for training\n",
        "end_time_training = time.time()\n",
        "\n",
        "# Calculate training time\n",
        "training_time = end_time_training - start_time_training\n",
        "print(\"Training time:\", training_time, \"seconds\")"
      ],
      "metadata": {
        "colab": {
          "base_uri": "https://localhost:8080/"
        },
        "id": "MVwA7GeGgrFe",
        "outputId": "16d96651-3220-4479-b66e-438a00eba7d4"
      },
      "execution_count": null,
      "outputs": [
        {
          "output_type": "stream",
          "name": "stdout",
          "text": [
            "Training time: 167.6301827430725 seconds\n"
          ]
        }
      ]
    },
    {
      "cell_type": "code",
      "source": [
        "import tensorflow as tf\n",
        "\n",
        "tf.get_logger().setLevel('ERROR')"
      ],
      "metadata": {
        "id": "jZe4is19rD9d"
      },
      "execution_count": null,
      "outputs": []
    },
    {
      "cell_type": "code",
      "source": [
        "import warnings\n",
        "\n",
        "warnings.filterwarnings('ignore')"
      ],
      "metadata": {
        "id": "dE0pE0nzrExl"
      },
      "execution_count": null,
      "outputs": []
    },
    {
      "cell_type": "code",
      "source": [
        "# Start timer for prediction\n",
        "start_time_prediction = time.time()"
      ],
      "metadata": {
        "id": "-dLt-D91g7uA"
      },
      "execution_count": null,
      "outputs": []
    },
    {
      "cell_type": "code",
      "source": [
        "# walk-forward validation on the test data\n",
        "predictions = list()\n",
        "expectations = list()\n",
        "test_pred = list()\n",
        " #Classify power level using CNN\n",
        "def classify_power_level(prediction, low_threshold, high_threshold):\n",
        "    if prediction < low_threshold:\n",
        "        return 'low'\n",
        "    elif prediction >= high_threshold:\n",
        "        return 'high'\n",
        "    else:\n",
        "        return 'mid'\n",
        "\n",
        "# Set your low and high thresholds\n",
        "low_threshold = 10000\n",
        "high_threshold = 35000\n",
        "\n",
        "# Display Hour, Predicted, Expected, and Classified Power Level\n",
        "expectations = np.array([])\n",
        "for i in range(len(test_scaled)):\n",
        "    X, y = test_scaled[i, 0:-1], test_scaled[i, -1]\n",
        "    yhat = forecast_lstm(lstm_model, 1, X)  # make one-step forecast\n",
        "    test_pred = np.array([yhat] + list(test_pred))  # Convert to numpy array for concatenation\n",
        "    if i + 1 < len(test_scaled):\n",
        "        end_idx = min(len(test_scaled[i+1]), len(test_pred))\n",
        "        test_scaled[i + 1] = np.concatenate((test_pred[:end_idx], test_scaled[i + 1, end_idx:]), axis=0)\n",
        "    yhat = invert_scale(scaler, X, yhat)\n",
        "    yhat = inverse_difference(raw_values, yhat, len(test_scaled) + 1 - i)\n",
        "    predictions = np.append(predictions, yhat)  # Use np.append instead\n",
        "    expected = raw_values[len(train) + i + 1]\n",
        "    expectations = np.append(expectations, expected)  # Add expected value to the array\n",
        "    classified_power_level = classify_power_level(yhat, low_threshold, high_threshold)\n",
        "    #print('Hour=%d, Predicted=%f, Expected=%f, Classified=%s' % (i + 1, yhat, expected, classified_power_level))"
      ],
      "metadata": {
        "colab": {
          "base_uri": "https://localhost:8080/"
        },
        "id": "lXU30h1UrKOF",
        "outputId": "0006b890-49b6-49ab-a524-cf962503e569",
        "collapsed": true
      },
      "execution_count": null,
      "outputs": [
        {
          "output_type": "stream",
          "name": "stdout",
          "text": [
            "1/1 [==============================] - 0s 454ms/step\n",
            "1/1 [==============================] - 0s 27ms/step\n",
            "1/1 [==============================] - 0s 29ms/step\n",
            "1/1 [==============================] - 0s 30ms/step\n",
            "1/1 [==============================] - 0s 32ms/step\n",
            "1/1 [==============================] - 0s 33ms/step\n",
            "1/1 [==============================] - 0s 44ms/step\n",
            "1/1 [==============================] - 0s 42ms/step\n",
            "1/1 [==============================] - 0s 55ms/step\n",
            "1/1 [==============================] - 0s 40ms/step\n",
            "1/1 [==============================] - 0s 37ms/step\n",
            "1/1 [==============================] - 0s 36ms/step\n",
            "1/1 [==============================] - 0s 34ms/step\n",
            "1/1 [==============================] - 0s 50ms/step\n",
            "1/1 [==============================] - 0s 58ms/step\n",
            "1/1 [==============================] - 0s 35ms/step\n",
            "1/1 [==============================] - 0s 32ms/step\n",
            "1/1 [==============================] - 0s 34ms/step\n",
            "1/1 [==============================] - 0s 34ms/step\n",
            "1/1 [==============================] - 0s 49ms/step\n",
            "1/1 [==============================] - 0s 43ms/step\n",
            "1/1 [==============================] - 0s 38ms/step\n",
            "1/1 [==============================] - 0s 43ms/step\n",
            "1/1 [==============================] - 0s 30ms/step\n",
            "1/1 [==============================] - 0s 35ms/step\n",
            "1/1 [==============================] - 0s 28ms/step\n",
            "1/1 [==============================] - 0s 45ms/step\n",
            "1/1 [==============================] - 0s 34ms/step\n",
            "1/1 [==============================] - 0s 28ms/step\n",
            "1/1 [==============================] - 0s 33ms/step\n",
            "1/1 [==============================] - 0s 38ms/step\n",
            "1/1 [==============================] - 0s 33ms/step\n",
            "1/1 [==============================] - 0s 28ms/step\n",
            "1/1 [==============================] - 0s 34ms/step\n",
            "1/1 [==============================] - 0s 19ms/step\n",
            "1/1 [==============================] - 0s 19ms/step\n",
            "1/1 [==============================] - 0s 19ms/step\n",
            "1/1 [==============================] - 0s 19ms/step\n",
            "1/1 [==============================] - 0s 19ms/step\n",
            "1/1 [==============================] - 0s 25ms/step\n",
            "1/1 [==============================] - 0s 19ms/step\n",
            "1/1 [==============================] - 0s 19ms/step\n",
            "1/1 [==============================] - 0s 18ms/step\n",
            "1/1 [==============================] - 0s 18ms/step\n",
            "1/1 [==============================] - 0s 18ms/step\n",
            "1/1 [==============================] - 0s 36ms/step\n",
            "1/1 [==============================] - 0s 18ms/step\n",
            "1/1 [==============================] - 0s 25ms/step\n"
          ]
        }
      ]
    },
    {
      "cell_type": "code",
      "source": [
        "# End timer for prediction\n",
        "end_time_prediction = time.time()"
      ],
      "metadata": {
        "id": "9Ag9PpZuhb5A"
      },
      "execution_count": null,
      "outputs": []
    },
    {
      "cell_type": "code",
      "source": [
        "for i in range(len(predictions)):\n",
        "    predicted_power = predictions[i]\n",
        "    expected_power = expectations[i]\n",
        "    classified_power_level = classify_power_level(predicted_power, low_threshold, high_threshold)\n",
        "    print('Hour=%d, Predicted=%f, Expected=%f, Classified=%s' % (i + 1, predicted_power, expected_power, classified_power_level))\n",
        "\n",
        "# Calculate prediction time\n",
        "prediction_time = end_time_prediction - start_time_prediction\n",
        "print(\"Prediction time:\", prediction_time, \"seconds\")"
      ],
      "metadata": {
        "colab": {
          "base_uri": "https://localhost:8080/"
        },
        "id": "XvAPzQkJ1RBI",
        "outputId": "61783e48-7842-49b3-e9f7-fa13be6d2a4f"
      },
      "execution_count": null,
      "outputs": [
        {
          "output_type": "stream",
          "name": "stdout",
          "text": [
            "Hour=1, Predicted=1345.088038, Expected=1308.490000, Classified=low\n",
            "Hour=2, Predicted=1655.611322, Expected=1599.080000, Classified=low\n",
            "Hour=3, Predicted=2404.214140, Expected=1599.080000, Classified=low\n",
            "Hour=4, Predicted=1307.318171, Expected=1599.080000, Classified=low\n",
            "Hour=5, Predicted=20.648457, Expected=1599.080000, Classified=low\n",
            "Hour=6, Predicted=924.251064, Expected=1599.080000, Classified=low\n",
            "Hour=7, Predicted=1242.765185, Expected=1599.080000, Classified=low\n",
            "Hour=8, Predicted=1987.817797, Expected=1599.080000, Classified=low\n",
            "Hour=9, Predicted=2034.713019, Expected=1599.080000, Classified=low\n",
            "Hour=10, Predicted=1768.668539, Expected=1599.080000, Classified=low\n",
            "Hour=11, Predicted=1728.091815, Expected=1599.080000, Classified=low\n",
            "Hour=12, Predicted=1507.234315, Expected=1599.080000, Classified=low\n",
            "Hour=13, Predicted=1612.458570, Expected=1599.080000, Classified=low\n",
            "Hour=14, Predicted=1425.981084, Expected=1599.080000, Classified=low\n",
            "Hour=15, Predicted=1530.171530, Expected=1599.080000, Classified=low\n",
            "Hour=16, Predicted=2172.533057, Expected=1599.080000, Classified=low\n",
            "Hour=17, Predicted=2214.723554, Expected=1672.770000, Classified=low\n",
            "Hour=18, Predicted=2272.816711, Expected=8531.960000, Classified=low\n",
            "Hour=19, Predicted=9429.111506, Expected=15539.100000, Classified=low\n",
            "Hour=20, Predicted=16557.121652, Expected=26786.900000, Classified=mid\n",
            "Hour=21, Predicted=27875.284301, Expected=25020.700000, Classified=mid\n",
            "Hour=22, Predicted=26630.623370, Expected=27629.500000, Classified=mid\n",
            "Hour=23, Predicted=30030.485118, Expected=32552.100000, Classified=mid\n",
            "Hour=24, Predicted=35151.899093, Expected=35360.200000, Classified=high\n",
            "Hour=25, Predicted=37726.616691, Expected=34840.900000, Classified=high\n",
            "Hour=26, Predicted=37015.313028, Expected=25756.500000, Classified=high\n",
            "Hour=27, Predicted=27718.577129, Expected=24001.300000, Classified=mid\n",
            "Hour=28, Predicted=24915.444352, Expected=21087.300000, Classified=mid\n",
            "Hour=29, Predicted=20888.188527, Expected=20042.300000, Classified=mid\n",
            "Hour=30, Predicted=19517.848030, Expected=22200.300000, Classified=mid\n",
            "Hour=31, Predicted=21214.421596, Expected=21921.400000, Classified=mid\n",
            "Hour=32, Predicted=21025.663558, Expected=18477.800000, Classified=mid\n",
            "Hour=33, Predicted=17914.044110, Expected=8228.800000, Classified=mid\n",
            "Hour=34, Predicted=7689.532328, Expected=1670.540000, Classified=low\n",
            "Hour=35, Predicted=1109.255945, Expected=2523.480000, Classified=low\n",
            "Hour=36, Predicted=2136.719304, Expected=6972.340000, Classified=low\n",
            "Hour=37, Predicted=6704.530235, Expected=7263.580000, Classified=low\n",
            "Hour=38, Predicted=7070.797575, Expected=8559.740000, Classified=low\n",
            "Hour=39, Predicted=8549.070209, Expected=8560.660000, Classified=low\n",
            "Hour=40, Predicted=8811.551574, Expected=8524.060000, Classified=low\n",
            "Hour=41, Predicted=8976.418569, Expected=16343.100000, Classified=low\n",
            "Hour=42, Predicted=16929.012695, Expected=23888.900000, Classified=mid\n",
            "Hour=43, Predicted=24483.863199, Expected=20290.900000, Classified=mid\n",
            "Hour=44, Predicted=20821.979814, Expected=21585.200000, Classified=mid\n",
            "Hour=45, Predicted=21993.005966, Expected=23750.100000, Classified=mid\n",
            "Hour=46, Predicted=24079.376935, Expected=20564.900000, Classified=mid\n",
            "Hour=47, Predicted=20938.230952, Expected=18227.900000, Classified=mid\n",
            "Hour=48, Predicted=18594.533793, Expected=13773.500000, Classified=mid\n",
            "Prediction time: 5.82102108001709 seconds\n"
          ]
        }
      ]
    },
    {
      "cell_type": "code",
      "source": [
        "# prompt: show model evaluation accuracy\n",
        "\n",
        "import numpy as np\n",
        "# Calculate accuracy metrics\n",
        "from sklearn.metrics import mean_squared_error, mean_absolute_error, r2_score\n",
        "mae = mean_absolute_error(expectations, predictions)\n",
        "mse = mean_squared_error(expectations, predictions)\n",
        "rmse = np.sqrt(mse)\n",
        "r2 = r2_score(expectations, predictions)\n",
        "print('MAE:', mae)\n",
        "print('MSE:', mse)\n",
        "print('RMSE:', rmse)\n",
        "print('R2:', r2)"
      ],
      "metadata": {
        "colab": {
          "base_uri": "https://localhost:8080/"
        },
        "id": "cC925IzXk61p",
        "outputId": "b3681a93-9e46-4e97-c0a2-b4d2ecbd2fee"
      },
      "execution_count": null,
      "outputs": [
        {
          "output_type": "stream",
          "name": "stdout",
          "text": [
            "MAE: 2508.9056903255873\n",
            "MSE: 14686654.339118749\n",
            "RMSE: 3832.317097934192\n",
            "R2: 0.873532161762792\n"
          ]
        }
      ]
    },
    {
      "cell_type": "code",
      "source": [
        "from matplotlib import pyplot\n",
        "pyplot.plot(raw_values[-predict_values_exp:], label=\"True\")\n",
        "pyplot.plot(predictions, label=\"Predicted\")\n",
        "pyplot.legend(loc='upper right')\n",
        "pyplot.xlabel(\"Number of hours\")\n",
        "pyplot.ylabel(\"Power generated by system (kW)\")\n",
        "pyplot.show()"
      ],
      "metadata": {
        "colab": {
          "base_uri": "https://localhost:8080/",
          "height": 449
        },
        "id": "KWDieHNIrP3n",
        "outputId": "47d9ae37-db1f-4dd4-f7a2-906c4e6d569c"
      },
      "execution_count": null,
      "outputs": [
        {
          "output_type": "display_data",
          "data": {
            "text/plain": [
              "<Figure size 640x480 with 1 Axes>"
            ],
            "image/png": "[encoded data removed]"
          },
          "metadata": {}
        }
      ]
    },
    {
      "cell_type": "code",
      "source": [
        "#[NO NEED TO RUN]\n",
        "\n",
        "import time\n",
        "\n",
        "# Start timer for training\n",
        "start_time_training = time.time()\n",
        "\n",
        "# Train the LSTM model\n",
        "lstm_model = fit_lstm(train_scaled, batch_size_exp, epoch_exp, neurons_exp)\n",
        "\n",
        "# End timer for training\n",
        "end_time_training = time.time()\n",
        "\n",
        "# Calculate training time\n",
        "training_time = end_time_training - start_time_training\n",
        "\n",
        "# Start timer for prediction\n",
        "start_time_prediction = time.time()\n",
        "\n",
        "# Make predictions on the test set\n",
        "predictions = list()\n",
        "for i in range(len(test_scaled)):\n",
        "    X, y = test_scaled[i, 0:-1], test_scaled[i, -1]\n",
        "    yhat = forecast_lstm(lstm_model, 1, X)\n",
        "    predictions.append(yhat)\n",
        "\n",
        "# End timer for prediction\n",
        "end_time_prediction = time.time()\n",
        "\n",
        "# Calculate prediction time\n",
        "prediction_time = end_time_prediction - start_time_prediction\n",
        "\n",
        "# Print the training and prediction times\n",
        "print(\"Training time:\", training_time, \"seconds\")\n",
        "print(\"Prediction time:\", prediction_time, \"seconds\")\n"
      ],
      "metadata": {
        "colab": {
          "base_uri": "https://localhost:8080/"
        },
        "id": "ukQ_9iYtf2Md",
        "outputId": "d82c844f-85de-4a3f-a9f5-93df0bc38901"
      },
      "execution_count": null,
      "outputs": [
        {
          "output_type": "stream",
          "name": "stdout",
          "text": [
            "1941/1941 [==============================] - 9s 4ms/step - loss: 0.1445\n",
            "1941/1941 [==============================] - 7s 3ms/step - loss: 0.1123\n",
            "1/1 [==============================] - 0s 332ms/step\n",
            "1/1 [==============================] - 0s 21ms/step\n",
            "1/1 [==============================] - 0s 19ms/step\n",
            "1/1 [==============================] - 0s 16ms/step\n",
            "1/1 [==============================] - 0s 16ms/step\n",
            "1/1 [==============================] - 0s 16ms/step\n",
            "1/1 [==============================] - 0s 16ms/step\n",
            "1/1 [==============================] - 0s 16ms/step\n",
            "1/1 [==============================] - 0s 16ms/step\n",
            "1/1 [==============================] - 0s 16ms/step\n",
            "1/1 [==============================] - 0s 16ms/step\n",
            "1/1 [==============================] - 0s 16ms/step\n",
            "1/1 [==============================] - 0s 15ms/step\n",
            "1/1 [==============================] - 0s 15ms/step\n",
            "1/1 [==============================] - 0s 16ms/step\n",
            "1/1 [==============================] - 0s 16ms/step\n",
            "1/1 [==============================] - 0s 16ms/step\n",
            "1/1 [==============================] - 0s 16ms/step\n",
            "1/1 [==============================] - 0s 15ms/step\n",
            "1/1 [==============================] - 0s 22ms/step\n",
            "1/1 [==============================] - 0s 16ms/step\n",
            "1/1 [==============================] - 0s 15ms/step\n",
            "1/1 [==============================] - 0s 17ms/step\n",
            "1/1 [==============================] - 0s 16ms/step\n",
            "1/1 [==============================] - 0s 16ms/step\n",
            "1/1 [==============================] - 0s 15ms/step\n",
            "1/1 [==============================] - 0s 17ms/step\n",
            "1/1 [==============================] - 0s 17ms/step\n",
            "1/1 [==============================] - 0s 16ms/step\n",
            "1/1 [==============================] - 0s 16ms/step\n",
            "1/1 [==============================] - 0s 16ms/step\n",
            "1/1 [==============================] - 0s 16ms/step\n",
            "1/1 [==============================] - 0s 17ms/step\n",
            "1/1 [==============================] - 0s 15ms/step\n",
            "1/1 [==============================] - 0s 17ms/step\n",
            "1/1 [==============================] - 0s 15ms/step\n",
            "1/1 [==============================] - 0s 15ms/step\n",
            "1/1 [==============================] - 0s 17ms/step\n",
            "1/1 [==============================] - 0s 15ms/step\n",
            "1/1 [==============================] - 0s 16ms/step\n",
            "1/1 [==============================] - 0s 15ms/step\n",
            "1/1 [==============================] - 0s 16ms/step\n",
            "1/1 [==============================] - 0s 15ms/step\n",
            "1/1 [==============================] - 0s 16ms/step\n",
            "1/1 [==============================] - 0s 15ms/step\n",
            "1/1 [==============================] - 0s 15ms/step\n",
            "1/1 [==============================] - 0s 16ms/step\n",
            "1/1 [==============================] - 0s 15ms/step\n",
            "Training time: 22.384291410446167 seconds\n",
            "Prediction time: 3.0598392486572266 seconds\n"
          ]
        }
      ]
    },
    {
      "cell_type": "code",
      "source": [
        "def calculate_time_complexity(nb_epoch, n):\n",
        "\n",
        "    total_operations = n + nb_epoch * n + nb_epoch\n",
        "\n",
        "    return total_operations"
      ],
      "metadata": {
        "id": "xu9XijeCfaBl"
      },
      "execution_count": null,
      "outputs": []
    },
    {
      "cell_type": "code",
      "source": [
        "# Assuming supervised_values, scale, and train_scaled are defined elsewhere\n",
        "train, test = supervised_values[0:-predict_values_exp], supervised_values[-predict_values_exp:]\n",
        "scaler, train_scaled, test_scaled = scale(train, test)\n",
        "\n",
        "n = len(train_scaled)\n",
        "nb_epoch = epoch_exp\n",
        "\n",
        "time_complexity = calculate_time_complexity(nb_epoch, n)\n",
        "print(f\"Time complexity: O({time_complexity})\")"
      ],
      "metadata": {
        "colab": {
          "base_uri": "https://localhost:8080/"
        },
        "id": "EzRL7D77fTGb",
        "outputId": "ba1b0be8-8c39-4e44-df6f-1eed9159a5a2"
      },
      "execution_count": null,
      "outputs": [
        {
          "output_type": "stream",
          "name": "stdout",
          "text": [
            "Time complexity: O(5825)\n"
          ]
        }
      ]
    },
    {
      "cell_type": "code",
      "source": [
        "import numpy as np\n",
        "model_string = str(lstm_model)\n",
        "model_bytes = model_string.encode('utf-8')\n",
        "model_size = len(model_bytes)"
      ],
      "metadata": {
        "id": "vaUVCF1_iE_P"
      },
      "execution_count": null,
      "outputs": []
    },
    {
      "cell_type": "code",
      "source": [
        "# Get the size of the model in bytes\n",
        "model_size = len(str(lstm_model).encode('utf-8'))\n",
        "\n",
        "# Convert bytes to megabytes\n",
        "model_size_mb = model_size / (1024 * 1024)\n",
        "print(f\"Model size: {model_size_mb:.9f} MB\")"
      ],
      "metadata": {
        "colab": {
          "base_uri": "https://localhost:8080/"
        },
        "id": "vvyMjUQfiJ4Q",
        "outputId": "b5afc8e2-ba14-433f-a77d-d5f8d2c10fb8"
      },
      "execution_count": null,
      "outputs": [
        {
          "output_type": "stream",
          "name": "stdout",
          "text": [
            "Model size: 0.000061989 MB\n"
          ]
        }
      ]
    },
    {
      "cell_type": "code",
      "source": [
        "import math\n",
        "\n",
        "# Get the size of the model in bytes\n",
        "model_size = len(str(lstm_model).encode('utf-8'))\n",
        "\n",
        "# Convert bytes to megabytes\n",
        "model_size_mb = model_size / (1024 * 1024)\n",
        "\n",
        "# Round the model size up to the nearest whole number\n",
        "model_size_mb_rounded = math.ceil(model_size_mb)\n",
        "\n",
        "# Print the rounded model size\n",
        "print(f\"Model size: {model_size_mb_rounded} MB\")"
      ],
      "metadata": {
        "colab": {
          "base_uri": "https://localhost:8080/"
        },
        "id": "Dp8abyztiXuO",
        "outputId": "2ca90516-7b9a-4b0f-f02a-0114c4ae1a4d"
      },
      "execution_count": null,
      "outputs": [
        {
          "output_type": "stream",
          "name": "stdout",
          "text": [
            "Model size: 1 MB\n"
          ]
        }
      ]
    },
    {
      "cell_type": "code",
      "source": [
        "from keras.models import save_model\n",
        "\n",
        "# Save the model\n",
        "lstm_model.save('lstm_model.h5')"
      ],
      "metadata": {
        "id": "4XG9sduW6yLy"
      },
      "execution_count": null,
      "outputs": []
    },
    {
      "cell_type": "code",
      "source": [
        "import numpy as np\n",
        "from tensorflow.keras.models import load_model\n",
        "\n",
        "# Define the function to normalize input features\n",
        "def normalize_features(features):\n",
        "    # Assuming the original range for each feature was 0 to 100\n",
        "    return features / 500.0\n",
        "\n",
        "# Define the function to denormalize the prediction\n",
        "def denormalize_prediction(prediction):\n",
        "    # Assuming the denormalization range for power is 0 to 6000 kW\n",
        "    return abs(prediction) * 4000000.0\n",
        "\n",
        "# Load the trained LSTM model\n",
        "lstm_model = load_model('/content/lstm_model.h5')\n",
        "\n",
        "# Take user input for the four features\n",
        "air_temperature = float(input(\"Enter air temperature (°C): \"))\n",
        "pressure = float(input(\"Enter pressure (atm): \"))\n",
        "wind_speed = float(input(\"Enter wind speed (m/s): \"))\n",
        "wind_direction = float(input(\"Enter wind direction (deg): \"))\n",
        "\n",
        "# Normalize the input features\n",
        "input_features = np.array([[air_temperature, pressure, wind_speed, wind_direction]])\n",
        "normalized_features = normalize_features(input_features)\n",
        "\n",
        "# Expand the input features to match the expected shape (batch_size, 1, 24)\n",
        "normalized_features_expanded = np.zeros((normalized_features.shape[0], 1, 48))\n",
        "normalized_features_expanded[:, :, :4] = normalized_features\n",
        "\n",
        "# Make a prediction using the LSTM model\n",
        "prediction = lstm_model.predict(normalized_features_expanded)\n",
        "\n",
        "# Denormalize the prediction\n",
        "predicted_power = denormalize_prediction(prediction[0][0])\n",
        "\n",
        "# Display the predicted power output\n",
        "print(\"Predicted power generated by the system:\", predicted_power, \"kW\")"
      ],
      "metadata": {
        "id": "evgI8h_663M5",
        "colab": {
          "base_uri": "https://localhost:8080/"
        },
        "outputId": "f054668b-0258-458b-9f1d-4d997309ca67"
      },
      "execution_count": null,
      "outputs": [
        {
          "output_type": "stream",
          "name": "stdout",
          "text": [
            "Enter air temperature (°C): 7.259\n",
            "Enter pressure (atm): 0.979867\n",
            "Enter wind speed (m/s): 8.383\n",
            "Enter wind direction (deg): 256\n",
            "1/1 [==============================] - 0s 435ms/step\n",
            "Predicted power generated by the system: 24460.85959672928 kW\n"
          ]
        }
      ]
    },
    {
      "cell_type": "code",
      "source": [
        "! pip install streamlit"
      ],
      "metadata": {
        "colab": {
          "base_uri": "https://localhost:8080/"
        },
        "id": "WAL5S9fU_ehx",
        "outputId": "964f3a5f-d335-40c0-a6fe-6fa01a24f078"
      },
      "execution_count": null,
      "outputs": [
        {
          "output_type": "stream",
          "name": "stdout",
          "text": [
            "Collecting streamlit\n",
            "  Downloading streamlit-1.35.0-py2.py3-none-any.whl (8.6 MB)\n",
            "\u001b[2K     \u001b[90m━━━━━━━━━━━━━━━━━━━━━━━━━━━━━━━━━━━━━━━━\u001b[0m \u001b[32m8.6/8.6 MB\u001b[0m \u001b[31m21.5 MB/s\u001b[0m eta \u001b[36m0:00:00\u001b[0m\n",
            "\u001b[?25hRequirement already satisfied: altair<6,>=4.0 in /usr/local/lib/python3.10/dist-packages (from streamlit) (4.2.2)\n",
            "Requirement already satisfied: blinker<2,>=1.0.0 in /usr/lib/python3/dist-packages (from streamlit) (1.4)\n",
            "Requirement already satisfied: cachetools<6,>=4.0 in /usr/local/lib/python3.10/dist-packages (from streamlit) (5.3.3)\n",
            "Requirement already satisfied: click<9,>=7.0 in /usr/local/lib/python3.10/dist-packages (from streamlit) (8.1.7)\n",
            "Requirement already satisfied: numpy<2,>=1.19.3 in /usr/local/lib/python3.10/dist-packages (from streamlit) (1.25.2)\n",
            "Requirement already satisfied: packaging<25,>=16.8 in /usr/local/lib/python3.10/dist-packages (from streamlit) (24.0)\n",
            "Requirement already satisfied: pandas<3,>=1.3.0 in /usr/local/lib/python3.10/dist-packages (from streamlit) (2.0.3)\n",
            "Requirement already satisfied: pillow<11,>=7.1.0 in /usr/local/lib/python3.10/dist-packages (from streamlit) (9.4.0)\n",
            "Requirement already satisfied: protobuf<5,>=3.20 in /usr/local/lib/python3.10/dist-packages (from streamlit) (3.20.3)\n",
            "Requirement already satisfied: pyarrow>=7.0 in /usr/local/lib/python3.10/dist-packages (from streamlit) (14.0.2)\n",
            "Requirement already satisfied: requests<3,>=2.27 in /usr/local/lib/python3.10/dist-packages (from streamlit) (2.31.0)\n",
            "Requirement already satisfied: rich<14,>=10.14.0 in /usr/local/lib/python3.10/dist-packages (from streamlit) (13.7.1)\n",
            "Requirement already satisfied: tenacity<9,>=8.1.0 in /usr/local/lib/python3.10/dist-packages (from streamlit) (8.3.0)\n",
            "Requirement already satisfied: toml<2,>=0.10.1 in /usr/local/lib/python3.10/dist-packages (from streamlit) (0.10.2)\n",
            "Requirement already satisfied: typing-extensions<5,>=4.3.0 in /usr/local/lib/python3.10/dist-packages (from streamlit) (4.11.0)\n",
            "Collecting gitpython!=3.1.19,<4,>=3.0.7 (from streamlit)\n",
            "  Downloading GitPython-3.1.43-py3-none-any.whl (207 kB)\n",
            "\u001b[2K     \u001b[90m━━━━━━━━━━━━━━━━━━━━━━━━━━━━━━━━━━━━━━━━\u001b[0m \u001b[32m207.3/207.3 kB\u001b[0m \u001b[31m19.1 MB/s\u001b[0m eta \u001b[36m0:00:00\u001b[0m\n",
            "\u001b[?25hCollecting pydeck<1,>=0.8.0b4 (from streamlit)\n",
            "  Downloading pydeck-0.9.1-py2.py3-none-any.whl (6.9 MB)\n",
            "\u001b[2K     \u001b[90m━━━━━━━━━━━━━━━━━━━━━━━━━━━━━━━━━━━━━━━━\u001b[0m \u001b[32m6.9/6.9 MB\u001b[0m \u001b[31m50.3 MB/s\u001b[0m eta \u001b[36m0:00:00\u001b[0m\n",
            "\u001b[?25hRequirement already satisfied: tornado<7,>=6.0.3 in /usr/local/lib/python3.10/dist-packages (from streamlit) (6.3.3)\n",
            "Collecting watchdog>=2.1.5 (from streamlit)\n",
            "  Downloading watchdog-4.0.1-py3-none-manylinux2014_x86_64.whl (83 kB)\n",
            "\u001b[2K     \u001b[90m━━━━━━━━━━━━━━━━━━━━━━━━━━━━━━━━━━━━━━━━\u001b[0m \u001b[32m83.0/83.0 kB\u001b[0m \u001b[31m8.4 MB/s\u001b[0m eta \u001b[36m0:00:00\u001b[0m\n",
            "\u001b[?25hRequirement already satisfied: entrypoints in /usr/local/lib/python3.10/dist-packages (from altair<6,>=4.0->streamlit) (0.4)\n",
            "Requirement already satisfied: jinja2 in /usr/local/lib/python3.10/dist-packages (from altair<6,>=4.0->streamlit) (3.1.4)\n",
            "Requirement already satisfied: jsonschema>=3.0 in /usr/local/lib/python3.10/dist-packages (from altair<6,>=4.0->streamlit) (4.19.2)\n",
            "Requirement already satisfied: toolz in /usr/local/lib/python3.10/dist-packages (from altair<6,>=4.0->streamlit) (0.12.1)\n",
            "Collecting gitdb<5,>=4.0.1 (from gitpython!=3.1.19,<4,>=3.0.7->streamlit)\n",
            "  Downloading gitdb-4.0.11-py3-none-any.whl (62 kB)\n",
            "\u001b[2K     \u001b[90m━━━━━━━━━━━━━━━━━━━━━━━━━━━━━━━━━━━━━━━━\u001b[0m \u001b[32m62.7/62.7 kB\u001b[0m \u001b[31m7.8 MB/s\u001b[0m eta \u001b[36m0:00:00\u001b[0m\n",
            "\u001b[?25hRequirement already satisfied: python-dateutil>=2.8.2 in /usr/local/lib/python3.10/dist-packages (from pandas<3,>=1.3.0->streamlit) (2.8.2)\n",
            "Requirement already satisfied: pytz>=2020.1 in /usr/local/lib/python3.10/dist-packages (from pandas<3,>=1.3.0->streamlit) (2023.4)\n",
            "Requirement already satisfied: tzdata>=2022.1 in /usr/local/lib/python3.10/dist-packages (from pandas<3,>=1.3.0->streamlit) (2024.1)\n",
            "Requirement already satisfied: charset-normalizer<4,>=2 in /usr/local/lib/python3.10/dist-packages (from requests<3,>=2.27->streamlit) (3.3.2)\n",
            "Requirement already satisfied: idna<4,>=2.5 in /usr/local/lib/python3.10/dist-packages (from requests<3,>=2.27->streamlit) (3.7)\n",
            "Requirement already satisfied: urllib3<3,>=1.21.1 in /usr/local/lib/python3.10/dist-packages (from requests<3,>=2.27->streamlit) (2.0.7)\n",
            "Requirement already satisfied: certifi>=2017.4.17 in /usr/local/lib/python3.10/dist-packages (from requests<3,>=2.27->streamlit) (2024.2.2)\n",
            "Requirement already satisfied: markdown-it-py>=2.2.0 in /usr/local/lib/python3.10/dist-packages (from rich<14,>=10.14.0->streamlit) (3.0.0)\n",
            "Requirement already satisfied: pygments<3.0.0,>=2.13.0 in /usr/local/lib/python3.10/dist-packages (from rich<14,>=10.14.0->streamlit) (2.16.1)\n",
            "Collecting smmap<6,>=3.0.1 (from gitdb<5,>=4.0.1->gitpython!=3.1.19,<4,>=3.0.7->streamlit)\n",
            "  Downloading smmap-5.0.1-py3-none-any.whl (24 kB)\n",
            "Requirement already satisfied: MarkupSafe>=2.0 in /usr/local/lib/python3.10/dist-packages (from jinja2->altair<6,>=4.0->streamlit) (2.1.5)\n",
            "Requirement already satisfied: attrs>=22.2.0 in /usr/local/lib/python3.10/dist-packages (from jsonschema>=3.0->altair<6,>=4.0->streamlit) (23.2.0)\n",
            "Requirement already satisfied: jsonschema-specifications>=2023.03.6 in /usr/local/lib/python3.10/dist-packages (from jsonschema>=3.0->altair<6,>=4.0->streamlit) (2023.12.1)\n",
            "Requirement already satisfied: referencing>=0.28.4 in /usr/local/lib/python3.10/dist-packages (from jsonschema>=3.0->altair<6,>=4.0->streamlit) (0.35.1)\n",
            "Requirement already satisfied: rpds-py>=0.7.1 in /usr/local/lib/python3.10/dist-packages (from jsonschema>=3.0->altair<6,>=4.0->streamlit) (0.18.1)\n",
            "Requirement already satisfied: mdurl~=0.1 in /usr/local/lib/python3.10/dist-packages (from markdown-it-py>=2.2.0->rich<14,>=10.14.0->streamlit) (0.1.2)\n",
            "Requirement already satisfied: six>=1.5 in /usr/local/lib/python3.10/dist-packages (from python-dateutil>=2.8.2->pandas<3,>=1.3.0->streamlit) (1.16.0)\n",
            "Installing collected packages: watchdog, smmap, pydeck, gitdb, gitpython, streamlit\n",
            "Successfully installed gitdb-4.0.11 gitpython-3.1.43 pydeck-0.9.1 smmap-5.0.1 streamlit-1.35.0 watchdog-4.0.1\n"
          ]
        }
      ]
    },
    {
      "cell_type": "code",
      "source": [
        "%%writefile app.py\n",
        "\n",
        "import streamlit as st\n",
        "import tensorflow as tf\n",
        "import numpy as np\n",
        "from tensorflow import keras\n",
        "from keras.models import Sequential\n",
        "from keras.layers import Dense,Flatten\n",
        "from keras.applications.vgg16 import VGG16\n",
        "from keras.datasets import mnist\n",
        "from keras.utils import to_categorical\n",
        "\n",
        "# Load the trained LSTM model\n",
        "from tensorflow.keras.models import load_model\n",
        "\n",
        "def normalize_features(features):\n",
        "    # Assuming the original range for each feature was 0 to 100\n",
        "    return features / 500.0\n",
        "\n",
        "# Define the function to denormalize the prediction\n",
        "def denormalize_prediction(prediction):\n",
        "    # Assuming the denormalization range for power is 0 to 6000 kW\n",
        "    return abs(prediction) * 4000000.0\n",
        "st.title(':blue[Wind power prediction using machine learning]')\n",
        "st.image('/content/sample_data/windmills.jpg')\n",
        "\n",
        "tab1, tab2, tab3 = st.tabs([\"prediction\", \"about\", \"contact\"])\n",
        "with tab1:\n",
        "# Load the pre-trained LSTM model\n",
        "  model = load_model('/content/lstm_model.h5')\n",
        "  st.title(':blue[LSTM Model Prediction]')\n",
        "  st.write('Enter input values:')\n",
        "# Add input fields for user input\n",
        "  input1 = st.number_input(':red[AIR TEMPERATURE (c)]')\n",
        "  input2 = st.number_input(':red[PRESSURE (atm)]')\n",
        "  input3 = st.number_input(':red[WIND SPEED (m/s)]')\n",
        "  input4 = st.number_input(':red[WIND DIRECTION (deg)]')\n",
        "# Add more input fields as needed\n",
        "\n",
        "  if st.button('Predict'):\n",
        "    # Preprocess the input data (e.g., scaling)\n",
        "      input_features = np.array([[input1, input2, input3, input4]])  # Adjust as needed\n",
        "      normalized_features = normalize_features(input_features)\n",
        "\n",
        "        # Expand the input features to match the expected shape (batch_size, 1, 24)\n",
        "      normalized_features_expanded = np.zeros((normalized_features.shape[0], 1, 48))\n",
        "      normalized_features_expanded[:, :, :4] = normalized_features\n",
        "    # Make prediction\n",
        "      prediction = model.predict(normalized_features_expanded)\n",
        "      predicted_power = denormalize_prediction(prediction[0][0])\n",
        "      st.write('Prediction:', predicted_power,'KW')\n",
        "\n",
        "with tab2:\n",
        "  st.title(\":blue[About Windmill Power Prediction]\")\n",
        "  st.write(\"This web application predicts windmill power output using a combination of Convolutional Neural Network (CNN) and LSTM (Long Short-Term Memory) models.\")\n",
        "\n",
        "    # Overview of the project\n",
        "  st.header(\"Project Overview\",divider='rainbow')\n",
        "  st.markdown(\"\"\"\n",
        "    Wind energy is an important renewable energy source, and accurate prediction of windmill power output is crucial for efficient energy production.\n",
        "    This project leverages machine learning techniques, specifically a combination of CNN and LSTM models, to predict windmill power based on the following inputs:\n",
        "    - Air temperature (celsius)\n",
        "    - Wind Direction (in degrees)\n",
        "    - Pressure (in hPa)\n",
        "    - Wind Speed (in m/s)\n",
        "\n",
        "    The CNN model extracts spatial patterns from the input features, and the LSTM model captures temporal dependencies to make accurate predictions.\n",
        "    \"\"\")\n",
        "\n",
        "    # About CNN and LSTM\n",
        "  st.header(\"About CNN and LSTM\",divider='rainbow')\n",
        "  st.markdown(\"\"\"\n",
        "    - *Convolutional Neural Network (CNN):* CNNs are powerful deep learning models commonly used for image analysis. In this project, a CNN is used to extract spatial patterns from the input features. It learns to identify important spatial relationships in the data.\n",
        "\n",
        "    - *Long Short-Term Memory (LSTM):* LSTM is a type of recurrent neural network (RNN) known for its ability to capture long-term dependencies in sequential data. Here, the LSTM model is used to learn temporal patterns and dependencies in the windmill data.\n",
        "\n",
        "    By combining the strengths of CNN and LSTM, the model is able to effectively learn both spatial and temporal features, leading to more accurate predictions.\n",
        "    \"\"\")\n",
        "\n",
        "    # About Input Features\n",
        "  st.header(\"Input Features\",divider='rainbow')\n",
        "  st.markdown(\"\"\"\n",
        "    The following are the input features used for windmill power prediction:\n",
        "    - *Air temperature (celsius):* Temperature in the air.\n",
        "    - *Wind Direction (degrees):* The direction from which the wind is blowing.\n",
        "    - *Pressure (hPa):* Atmospheric pressure at the location.\n",
        "    - *Wind Speed (m/s):* Speed of the wind.\n",
        "\n",
        "    These features are crucial factors that influence windmill power generation, and the CNN-LSTM model uses them to make predictions.\n",
        "    \"\"\")\n",
        "\n",
        "    # Conclusion\n",
        "  st.header(\"Conclusion\",divider='rainbow')\n",
        "  st.markdown(\"\"\"\n",
        "    This web application provides a user-friendly interface for predicting windmill power output using a combination of CNN and LSTM models.\n",
        "    Users can input values for wind direction, pressure, and wind speed to get accurate predictions on power output.\n",
        "\n",
        "    The CNN-LSTM model, trained on historical windmill data, allows for precise predictions by capturing both spatial and temporal patterns.\n",
        "    Wind energy producers can utilize this tool to optimize their operations and improve efficiency in energy generation.\n",
        "    \"\"\")\n",
        "\n",
        "with tab3:\n",
        "  st.title(\"Contact Information\")\n",
        "  st.write(\"If you have any questions or inquiries, please feel free to contact us.\")\n",
        "  st.header(\"Contact Details\")\n",
        "  st.markdown(\"\"\"\n",
        "      *Email:* [JNNCE@example.com](mailto:contact@example.com)\n",
        "      *Phone:* +91 98323 83471\n",
        "      *Address:*\n",
        "      JNNCE,\n",
        "      NAVULE,\n",
        "      SHIVAMOGGA-577202\n",
        "      \"\"\")"
      ],
      "metadata": {
        "colab": {
          "base_uri": "https://localhost:8080/"
        },
        "id": "XfaySv_N-5ST",
        "outputId": "8dc46183-729e-4918-fc27-34236b53b0ee"
      },
      "execution_count": null,
      "outputs": [
        {
          "output_type": "stream",
          "name": "stdout",
          "text": [
            "Overwriting app.py\n"
          ]
        }
      ]
    },
    {
      "cell_type": "code",
      "source": [
        "! wget -q -O - ipv4.icanhazip.com"
      ],
      "metadata": {
        "colab": {
          "base_uri": "https://localhost:8080/"
        },
        "id": "tnXsncHi_N1w",
        "outputId": "dc5ea3ec-4e21-4347-a155-b444ebf937d9"
      },
      "execution_count": null,
      "outputs": [
        {
          "output_type": "stream",
          "name": "stdout",
          "text": [
            "34.27.220.250\n"
          ]
        }
      ]
    },
    {
      "cell_type": "code",
      "source": [
        "! streamlit run app.py & npx localtunnel --port 8501"
      ],
      "metadata": {
        "colab": {
          "base_uri": "https://localhost:8080/"
        },
        "id": "4INKKJSL_RRS",
        "outputId": "6ad840ee-1da7-45ae-bd4c-0614f7056f97"
      },
      "execution_count": null,
      "outputs": [
        {
          "output_type": "stream",
          "name": "stdout",
          "text": [
            "\n",
            "Collecting usage statistics. To deactivate, set browser.gatherUsageStats to false.\n",
            "\u001b[0m\n",
            "\u001b[0m\n",
            "\u001b[34m\u001b[1m  You can now view your Streamlit app in your browser.\u001b[0m\n",
            "\u001b[0m\n",
            "\u001b[34m  Local URL: \u001b[0m\u001b[1mhttp://localhost:8501\u001b[0m\n",
            "\u001b[34m  Network URL: \u001b[0m\u001b[1mhttp://172.28.0.12:8501\u001b[0m\n",
            "\u001b[34m  External URL: \u001b[0m\u001b[1mhttp://34.27.220.250:8501\u001b[0m\n",
            "\u001b[0m\n",
            "\u001b[K\u001b[?25hnpx: installed 22 in 3.142s\n",
            "your url is: https://thirty-shirts-enter.loca.lt\n",
            "2024-05-26 17:48:39.782999: E external/local_xla/xla/stream_executor/cuda/cuda_dnn.cc:9261] Unable to register cuDNN factory: Attempting to register factory for plugin cuDNN when one has already been registered\n",
            "2024-05-26 17:48:39.783066: E external/local_xla/xla/stream_executor/cuda/cuda_fft.cc:607] Unable to register cuFFT factory: Attempting to register factory for plugin cuFFT when one has already been registered\n",
            "2024-05-26 17:48:39.784644: E external/local_xla/xla/stream_executor/cuda/cuda_blas.cc:1515] Unable to register cuBLAS factory: Attempting to register factory for plugin cuBLAS when one has already been registered\n",
            "2024-05-26 17:48:41.459121: W tensorflow/compiler/tf2tensorrt/utils/py_utils.cc:38] TF-TRT Warning: Could not find TensorRT\n",
            "1/1 [==============================] - 0s 467ms/step\n",
            "\u001b[34m  Stopping...\u001b[0m\n",
            "^C\n"
          ]
        }
      ]
    }
  ]
}